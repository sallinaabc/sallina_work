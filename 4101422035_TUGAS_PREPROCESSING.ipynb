{
  "nbformat": 4,
  "nbformat_minor": 0,
  "metadata": {
    "colab": {
      "provenance": []
    },
    "kernelspec": {
      "name": "python3",
      "display_name": "Python 3"
    },
    "language_info": {
      "name": "python"
    }
  },
  "cells": [
    {
      "cell_type": "markdown",
      "source": [
        "#1. A"
      ],
      "metadata": {
        "id": "51EoauwiZgrn"
      }
    },
    {
      "cell_type": "code",
      "execution_count": 46,
      "metadata": {
        "id": "lUDK5W_DZCRf"
      },
      "outputs": [],
      "source": [
        "import pandas as pd\n",
        "import numpy as np\n",
        "import matplotlib.pyplot as plt"
      ]
    },
    {
      "cell_type": "code",
      "source": [
        "#pemanggilan data\n",
        "data = pd.read_csv(\"produk_elektronik (1).csv\")"
      ],
      "metadata": {
        "id": "Jko4UQWNZxWU"
      },
      "execution_count": 47,
      "outputs": []
    },
    {
      "cell_type": "code",
      "source": [
        "data.head()"
      ],
      "metadata": {
        "colab": {
          "base_uri": "https://localhost:8080/",
          "height": 206
        },
        "id": "6oTdt0MIZ1l9",
        "outputId": "e335ef79-93f7-4d2d-8bc2-e28b00d1e4d3"
      },
      "execution_count": 48,
      "outputs": [
        {
          "output_type": "execute_result",
          "data": {
            "text/plain": [
              "   produk_id nama_produk    kategori  harga  rating  jumlah_ulasan  \\\n",
              "0          1    Produk_1  Smartwatch  746.0     4.2          273.0   \n",
              "1          2    Produk_2   Headphone  241.0     3.5          239.0   \n",
              "2          3    Produk_3      Tablet  810.0     3.8          209.0   \n",
              "3          4    Produk_4   Headphone  303.0     3.2           59.0   \n",
              "4          5    Produk_5   Headphone  252.0     3.7           76.0   \n",
              "\n",
              "   negara_asal  \n",
              "0        Japan  \n",
              "1       Canada  \n",
              "2       Canada  \n",
              "3  South Korea  \n",
              "4  South Korea  "
            ],
            "text/html": [
              "\n",
              "  <div id=\"df-f98e2ff4-5014-4ac5-98b8-b37849efe240\" class=\"colab-df-container\">\n",
              "    <div>\n",
              "<style scoped>\n",
              "    .dataframe tbody tr th:only-of-type {\n",
              "        vertical-align: middle;\n",
              "    }\n",
              "\n",
              "    .dataframe tbody tr th {\n",
              "        vertical-align: top;\n",
              "    }\n",
              "\n",
              "    .dataframe thead th {\n",
              "        text-align: right;\n",
              "    }\n",
              "</style>\n",
              "<table border=\"1\" class=\"dataframe\">\n",
              "  <thead>\n",
              "    <tr style=\"text-align: right;\">\n",
              "      <th></th>\n",
              "      <th>produk_id</th>\n",
              "      <th>nama_produk</th>\n",
              "      <th>kategori</th>\n",
              "      <th>harga</th>\n",
              "      <th>rating</th>\n",
              "      <th>jumlah_ulasan</th>\n",
              "      <th>negara_asal</th>\n",
              "    </tr>\n",
              "  </thead>\n",
              "  <tbody>\n",
              "    <tr>\n",
              "      <th>0</th>\n",
              "      <td>1</td>\n",
              "      <td>Produk_1</td>\n",
              "      <td>Smartwatch</td>\n",
              "      <td>746.0</td>\n",
              "      <td>4.2</td>\n",
              "      <td>273.0</td>\n",
              "      <td>Japan</td>\n",
              "    </tr>\n",
              "    <tr>\n",
              "      <th>1</th>\n",
              "      <td>2</td>\n",
              "      <td>Produk_2</td>\n",
              "      <td>Headphone</td>\n",
              "      <td>241.0</td>\n",
              "      <td>3.5</td>\n",
              "      <td>239.0</td>\n",
              "      <td>Canada</td>\n",
              "    </tr>\n",
              "    <tr>\n",
              "      <th>2</th>\n",
              "      <td>3</td>\n",
              "      <td>Produk_3</td>\n",
              "      <td>Tablet</td>\n",
              "      <td>810.0</td>\n",
              "      <td>3.8</td>\n",
              "      <td>209.0</td>\n",
              "      <td>Canada</td>\n",
              "    </tr>\n",
              "    <tr>\n",
              "      <th>3</th>\n",
              "      <td>4</td>\n",
              "      <td>Produk_4</td>\n",
              "      <td>Headphone</td>\n",
              "      <td>303.0</td>\n",
              "      <td>3.2</td>\n",
              "      <td>59.0</td>\n",
              "      <td>South Korea</td>\n",
              "    </tr>\n",
              "    <tr>\n",
              "      <th>4</th>\n",
              "      <td>5</td>\n",
              "      <td>Produk_5</td>\n",
              "      <td>Headphone</td>\n",
              "      <td>252.0</td>\n",
              "      <td>3.7</td>\n",
              "      <td>76.0</td>\n",
              "      <td>South Korea</td>\n",
              "    </tr>\n",
              "  </tbody>\n",
              "</table>\n",
              "</div>\n",
              "    <div class=\"colab-df-buttons\">\n",
              "\n",
              "  <div class=\"colab-df-container\">\n",
              "    <button class=\"colab-df-convert\" onclick=\"convertToInteractive('df-f98e2ff4-5014-4ac5-98b8-b37849efe240')\"\n",
              "            title=\"Convert this dataframe to an interactive table.\"\n",
              "            style=\"display:none;\">\n",
              "\n",
              "  <svg xmlns=\"http://www.w3.org/2000/svg\" height=\"24px\" viewBox=\"0 -960 960 960\">\n",
              "    <path d=\"M120-120v-720h720v720H120Zm60-500h600v-160H180v160Zm220 220h160v-160H400v160Zm0 220h160v-160H400v160ZM180-400h160v-160H180v160Zm440 0h160v-160H620v160ZM180-180h160v-160H180v160Zm440 0h160v-160H620v160Z\"/>\n",
              "  </svg>\n",
              "    </button>\n",
              "\n",
              "  <style>\n",
              "    .colab-df-container {\n",
              "      display:flex;\n",
              "      gap: 12px;\n",
              "    }\n",
              "\n",
              "    .colab-df-convert {\n",
              "      background-color: #E8F0FE;\n",
              "      border: none;\n",
              "      border-radius: 50%;\n",
              "      cursor: pointer;\n",
              "      display: none;\n",
              "      fill: #1967D2;\n",
              "      height: 32px;\n",
              "      padding: 0 0 0 0;\n",
              "      width: 32px;\n",
              "    }\n",
              "\n",
              "    .colab-df-convert:hover {\n",
              "      background-color: #E2EBFA;\n",
              "      box-shadow: 0px 1px 2px rgba(60, 64, 67, 0.3), 0px 1px 3px 1px rgba(60, 64, 67, 0.15);\n",
              "      fill: #174EA6;\n",
              "    }\n",
              "\n",
              "    .colab-df-buttons div {\n",
              "      margin-bottom: 4px;\n",
              "    }\n",
              "\n",
              "    [theme=dark] .colab-df-convert {\n",
              "      background-color: #3B4455;\n",
              "      fill: #D2E3FC;\n",
              "    }\n",
              "\n",
              "    [theme=dark] .colab-df-convert:hover {\n",
              "      background-color: #434B5C;\n",
              "      box-shadow: 0px 1px 3px 1px rgba(0, 0, 0, 0.15);\n",
              "      filter: drop-shadow(0px 1px 2px rgba(0, 0, 0, 0.3));\n",
              "      fill: #FFFFFF;\n",
              "    }\n",
              "  </style>\n",
              "\n",
              "    <script>\n",
              "      const buttonEl =\n",
              "        document.querySelector('#df-f98e2ff4-5014-4ac5-98b8-b37849efe240 button.colab-df-convert');\n",
              "      buttonEl.style.display =\n",
              "        google.colab.kernel.accessAllowed ? 'block' : 'none';\n",
              "\n",
              "      async function convertToInteractive(key) {\n",
              "        const element = document.querySelector('#df-f98e2ff4-5014-4ac5-98b8-b37849efe240');\n",
              "        const dataTable =\n",
              "          await google.colab.kernel.invokeFunction('convertToInteractive',\n",
              "                                                    [key], {});\n",
              "        if (!dataTable) return;\n",
              "\n",
              "        const docLinkHtml = 'Like what you see? Visit the ' +\n",
              "          '<a target=\"_blank\" href=https://colab.research.google.com/notebooks/data_table.ipynb>data table notebook</a>'\n",
              "          + ' to learn more about interactive tables.';\n",
              "        element.innerHTML = '';\n",
              "        dataTable['output_type'] = 'display_data';\n",
              "        await google.colab.output.renderOutput(dataTable, element);\n",
              "        const docLink = document.createElement('div');\n",
              "        docLink.innerHTML = docLinkHtml;\n",
              "        element.appendChild(docLink);\n",
              "      }\n",
              "    </script>\n",
              "  </div>\n",
              "\n",
              "\n",
              "<div id=\"df-922af28e-dce6-45f6-9157-e63f4ca5ff77\">\n",
              "  <button class=\"colab-df-quickchart\" onclick=\"quickchart('df-922af28e-dce6-45f6-9157-e63f4ca5ff77')\"\n",
              "            title=\"Suggest charts\"\n",
              "            style=\"display:none;\">\n",
              "\n",
              "<svg xmlns=\"http://www.w3.org/2000/svg\" height=\"24px\"viewBox=\"0 0 24 24\"\n",
              "     width=\"24px\">\n",
              "    <g>\n",
              "        <path d=\"M19 3H5c-1.1 0-2 .9-2 2v14c0 1.1.9 2 2 2h14c1.1 0 2-.9 2-2V5c0-1.1-.9-2-2-2zM9 17H7v-7h2v7zm4 0h-2V7h2v10zm4 0h-2v-4h2v4z\"/>\n",
              "    </g>\n",
              "</svg>\n",
              "  </button>\n",
              "\n",
              "<style>\n",
              "  .colab-df-quickchart {\n",
              "      --bg-color: #E8F0FE;\n",
              "      --fill-color: #1967D2;\n",
              "      --hover-bg-color: #E2EBFA;\n",
              "      --hover-fill-color: #174EA6;\n",
              "      --disabled-fill-color: #AAA;\n",
              "      --disabled-bg-color: #DDD;\n",
              "  }\n",
              "\n",
              "  [theme=dark] .colab-df-quickchart {\n",
              "      --bg-color: #3B4455;\n",
              "      --fill-color: #D2E3FC;\n",
              "      --hover-bg-color: #434B5C;\n",
              "      --hover-fill-color: #FFFFFF;\n",
              "      --disabled-bg-color: #3B4455;\n",
              "      --disabled-fill-color: #666;\n",
              "  }\n",
              "\n",
              "  .colab-df-quickchart {\n",
              "    background-color: var(--bg-color);\n",
              "    border: none;\n",
              "    border-radius: 50%;\n",
              "    cursor: pointer;\n",
              "    display: none;\n",
              "    fill: var(--fill-color);\n",
              "    height: 32px;\n",
              "    padding: 0;\n",
              "    width: 32px;\n",
              "  }\n",
              "\n",
              "  .colab-df-quickchart:hover {\n",
              "    background-color: var(--hover-bg-color);\n",
              "    box-shadow: 0 1px 2px rgba(60, 64, 67, 0.3), 0 1px 3px 1px rgba(60, 64, 67, 0.15);\n",
              "    fill: var(--button-hover-fill-color);\n",
              "  }\n",
              "\n",
              "  .colab-df-quickchart-complete:disabled,\n",
              "  .colab-df-quickchart-complete:disabled:hover {\n",
              "    background-color: var(--disabled-bg-color);\n",
              "    fill: var(--disabled-fill-color);\n",
              "    box-shadow: none;\n",
              "  }\n",
              "\n",
              "  .colab-df-spinner {\n",
              "    border: 2px solid var(--fill-color);\n",
              "    border-color: transparent;\n",
              "    border-bottom-color: var(--fill-color);\n",
              "    animation:\n",
              "      spin 1s steps(1) infinite;\n",
              "  }\n",
              "\n",
              "  @keyframes spin {\n",
              "    0% {\n",
              "      border-color: transparent;\n",
              "      border-bottom-color: var(--fill-color);\n",
              "      border-left-color: var(--fill-color);\n",
              "    }\n",
              "    20% {\n",
              "      border-color: transparent;\n",
              "      border-left-color: var(--fill-color);\n",
              "      border-top-color: var(--fill-color);\n",
              "    }\n",
              "    30% {\n",
              "      border-color: transparent;\n",
              "      border-left-color: var(--fill-color);\n",
              "      border-top-color: var(--fill-color);\n",
              "      border-right-color: var(--fill-color);\n",
              "    }\n",
              "    40% {\n",
              "      border-color: transparent;\n",
              "      border-right-color: var(--fill-color);\n",
              "      border-top-color: var(--fill-color);\n",
              "    }\n",
              "    60% {\n",
              "      border-color: transparent;\n",
              "      border-right-color: var(--fill-color);\n",
              "    }\n",
              "    80% {\n",
              "      border-color: transparent;\n",
              "      border-right-color: var(--fill-color);\n",
              "      border-bottom-color: var(--fill-color);\n",
              "    }\n",
              "    90% {\n",
              "      border-color: transparent;\n",
              "      border-bottom-color: var(--fill-color);\n",
              "    }\n",
              "  }\n",
              "</style>\n",
              "\n",
              "  <script>\n",
              "    async function quickchart(key) {\n",
              "      const quickchartButtonEl =\n",
              "        document.querySelector('#' + key + ' button');\n",
              "      quickchartButtonEl.disabled = true;  // To prevent multiple clicks.\n",
              "      quickchartButtonEl.classList.add('colab-df-spinner');\n",
              "      try {\n",
              "        const charts = await google.colab.kernel.invokeFunction(\n",
              "            'suggestCharts', [key], {});\n",
              "      } catch (error) {\n",
              "        console.error('Error during call to suggestCharts:', error);\n",
              "      }\n",
              "      quickchartButtonEl.classList.remove('colab-df-spinner');\n",
              "      quickchartButtonEl.classList.add('colab-df-quickchart-complete');\n",
              "    }\n",
              "    (() => {\n",
              "      let quickchartButtonEl =\n",
              "        document.querySelector('#df-922af28e-dce6-45f6-9157-e63f4ca5ff77 button');\n",
              "      quickchartButtonEl.style.display =\n",
              "        google.colab.kernel.accessAllowed ? 'block' : 'none';\n",
              "    })();\n",
              "  </script>\n",
              "</div>\n",
              "\n",
              "    </div>\n",
              "  </div>\n"
            ],
            "application/vnd.google.colaboratory.intrinsic+json": {
              "type": "dataframe",
              "variable_name": "data",
              "summary": "{\n  \"name\": \"data\",\n  \"rows\": 550,\n  \"fields\": [\n    {\n      \"column\": \"produk_id\",\n      \"properties\": {\n        \"dtype\": \"number\",\n        \"std\": 158,\n        \"min\": 1,\n        \"max\": 550,\n        \"num_unique_values\": 550,\n        \"samples\": [\n          196,\n          80,\n          481\n        ],\n        \"semantic_type\": \"\",\n        \"description\": \"\"\n      }\n    },\n    {\n      \"column\": \"nama_produk\",\n      \"properties\": {\n        \"dtype\": \"string\",\n        \"num_unique_values\": 550,\n        \"samples\": [\n          \"Produk_196\",\n          \"Produk_80\",\n          \"Produk_481\"\n        ],\n        \"semantic_type\": \"\",\n        \"description\": \"\"\n      }\n    },\n    {\n      \"column\": \"kategori\",\n      \"properties\": {\n        \"dtype\": \"category\",\n        \"num_unique_values\": 6,\n        \"samples\": [\n          \"Smartwatch\",\n          \"Headphone\",\n          \"Smartphone\"\n        ],\n        \"semantic_type\": \"\",\n        \"description\": \"\"\n      }\n    },\n    {\n      \"column\": \"harga\",\n      \"properties\": {\n        \"dtype\": \"number\",\n        \"std\": 625.8867249279893,\n        \"min\": -213.0,\n        \"max\": 8341.0,\n        \"num_unique_values\": 394,\n        \"samples\": [\n          388.0,\n          492.0,\n          418.0\n        ],\n        \"semantic_type\": \"\",\n        \"description\": \"\"\n      }\n    },\n    {\n      \"column\": \"rating\",\n      \"properties\": {\n        \"dtype\": \"number\",\n        \"std\": 0.5710523983693329,\n        \"min\": 3.0,\n        \"max\": 5.0,\n        \"num_unique_values\": 21,\n        \"samples\": [\n          4.2,\n          4.3,\n          5.0\n        ],\n        \"semantic_type\": \"\",\n        \"description\": \"\"\n      }\n    },\n    {\n      \"column\": \"jumlah_ulasan\",\n      \"properties\": {\n        \"dtype\": \"number\",\n        \"std\": 142.65537992151366,\n        \"min\": 12.0,\n        \"max\": 499.0,\n        \"num_unique_values\": 327,\n        \"samples\": [\n          212.0,\n          172.0,\n          375.0\n        ],\n        \"semantic_type\": \"\",\n        \"description\": \"\"\n      }\n    },\n    {\n      \"column\": \"negara_asal\",\n      \"properties\": {\n        \"dtype\": \"category\",\n        \"num_unique_values\": 9,\n        \"samples\": [\n          \"India\",\n          \"Canada\",\n          \"Germany\"\n        ],\n        \"semantic_type\": \"\",\n        \"description\": \"\"\n      }\n    }\n  ]\n}"
            }
          },
          "metadata": {},
          "execution_count": 48
        }
      ]
    },
    {
      "cell_type": "code",
      "source": [
        "data.tail(5)"
      ],
      "metadata": {
        "colab": {
          "base_uri": "https://localhost:8080/",
          "height": 206
        },
        "id": "lMeFOhorZ_Xy",
        "outputId": "14fee1f3-fe4a-4250-ef71-d5e72be81b08"
      },
      "execution_count": 49,
      "outputs": [
        {
          "output_type": "execute_result",
          "data": {
            "text/plain": [
              "     produk_id nama_produk   kategori  harga  rating  jumlah_ulasan  \\\n",
              "545        546  Produk_546     Laptop  496.0     3.9           19.0   \n",
              "546        547  Produk_547  Headphone  628.0     4.7          414.0   \n",
              "547        548  Produk_548     Tablet  465.0     4.3          393.0   \n",
              "548        549  Produk_549     Laptop  495.0     3.1          311.0   \n",
              "549        550  Produk_550     Tablet  388.0     4.3          240.0   \n",
              "\n",
              "    negara_asal  \n",
              "545       China  \n",
              "546         USA  \n",
              "547       India  \n",
              "548     Germany  \n",
              "549     Germany  "
            ],
            "text/html": [
              "\n",
              "  <div id=\"df-53910496-ca1a-4391-a610-097cb3ecf3f5\" class=\"colab-df-container\">\n",
              "    <div>\n",
              "<style scoped>\n",
              "    .dataframe tbody tr th:only-of-type {\n",
              "        vertical-align: middle;\n",
              "    }\n",
              "\n",
              "    .dataframe tbody tr th {\n",
              "        vertical-align: top;\n",
              "    }\n",
              "\n",
              "    .dataframe thead th {\n",
              "        text-align: right;\n",
              "    }\n",
              "</style>\n",
              "<table border=\"1\" class=\"dataframe\">\n",
              "  <thead>\n",
              "    <tr style=\"text-align: right;\">\n",
              "      <th></th>\n",
              "      <th>produk_id</th>\n",
              "      <th>nama_produk</th>\n",
              "      <th>kategori</th>\n",
              "      <th>harga</th>\n",
              "      <th>rating</th>\n",
              "      <th>jumlah_ulasan</th>\n",
              "      <th>negara_asal</th>\n",
              "    </tr>\n",
              "  </thead>\n",
              "  <tbody>\n",
              "    <tr>\n",
              "      <th>545</th>\n",
              "      <td>546</td>\n",
              "      <td>Produk_546</td>\n",
              "      <td>Laptop</td>\n",
              "      <td>496.0</td>\n",
              "      <td>3.9</td>\n",
              "      <td>19.0</td>\n",
              "      <td>China</td>\n",
              "    </tr>\n",
              "    <tr>\n",
              "      <th>546</th>\n",
              "      <td>547</td>\n",
              "      <td>Produk_547</td>\n",
              "      <td>Headphone</td>\n",
              "      <td>628.0</td>\n",
              "      <td>4.7</td>\n",
              "      <td>414.0</td>\n",
              "      <td>USA</td>\n",
              "    </tr>\n",
              "    <tr>\n",
              "      <th>547</th>\n",
              "      <td>548</td>\n",
              "      <td>Produk_548</td>\n",
              "      <td>Tablet</td>\n",
              "      <td>465.0</td>\n",
              "      <td>4.3</td>\n",
              "      <td>393.0</td>\n",
              "      <td>India</td>\n",
              "    </tr>\n",
              "    <tr>\n",
              "      <th>548</th>\n",
              "      <td>549</td>\n",
              "      <td>Produk_549</td>\n",
              "      <td>Laptop</td>\n",
              "      <td>495.0</td>\n",
              "      <td>3.1</td>\n",
              "      <td>311.0</td>\n",
              "      <td>Germany</td>\n",
              "    </tr>\n",
              "    <tr>\n",
              "      <th>549</th>\n",
              "      <td>550</td>\n",
              "      <td>Produk_550</td>\n",
              "      <td>Tablet</td>\n",
              "      <td>388.0</td>\n",
              "      <td>4.3</td>\n",
              "      <td>240.0</td>\n",
              "      <td>Germany</td>\n",
              "    </tr>\n",
              "  </tbody>\n",
              "</table>\n",
              "</div>\n",
              "    <div class=\"colab-df-buttons\">\n",
              "\n",
              "  <div class=\"colab-df-container\">\n",
              "    <button class=\"colab-df-convert\" onclick=\"convertToInteractive('df-53910496-ca1a-4391-a610-097cb3ecf3f5')\"\n",
              "            title=\"Convert this dataframe to an interactive table.\"\n",
              "            style=\"display:none;\">\n",
              "\n",
              "  <svg xmlns=\"http://www.w3.org/2000/svg\" height=\"24px\" viewBox=\"0 -960 960 960\">\n",
              "    <path d=\"M120-120v-720h720v720H120Zm60-500h600v-160H180v160Zm220 220h160v-160H400v160Zm0 220h160v-160H400v160ZM180-400h160v-160H180v160Zm440 0h160v-160H620v160ZM180-180h160v-160H180v160Zm440 0h160v-160H620v160Z\"/>\n",
              "  </svg>\n",
              "    </button>\n",
              "\n",
              "  <style>\n",
              "    .colab-df-container {\n",
              "      display:flex;\n",
              "      gap: 12px;\n",
              "    }\n",
              "\n",
              "    .colab-df-convert {\n",
              "      background-color: #E8F0FE;\n",
              "      border: none;\n",
              "      border-radius: 50%;\n",
              "      cursor: pointer;\n",
              "      display: none;\n",
              "      fill: #1967D2;\n",
              "      height: 32px;\n",
              "      padding: 0 0 0 0;\n",
              "      width: 32px;\n",
              "    }\n",
              "\n",
              "    .colab-df-convert:hover {\n",
              "      background-color: #E2EBFA;\n",
              "      box-shadow: 0px 1px 2px rgba(60, 64, 67, 0.3), 0px 1px 3px 1px rgba(60, 64, 67, 0.15);\n",
              "      fill: #174EA6;\n",
              "    }\n",
              "\n",
              "    .colab-df-buttons div {\n",
              "      margin-bottom: 4px;\n",
              "    }\n",
              "\n",
              "    [theme=dark] .colab-df-convert {\n",
              "      background-color: #3B4455;\n",
              "      fill: #D2E3FC;\n",
              "    }\n",
              "\n",
              "    [theme=dark] .colab-df-convert:hover {\n",
              "      background-color: #434B5C;\n",
              "      box-shadow: 0px 1px 3px 1px rgba(0, 0, 0, 0.15);\n",
              "      filter: drop-shadow(0px 1px 2px rgba(0, 0, 0, 0.3));\n",
              "      fill: #FFFFFF;\n",
              "    }\n",
              "  </style>\n",
              "\n",
              "    <script>\n",
              "      const buttonEl =\n",
              "        document.querySelector('#df-53910496-ca1a-4391-a610-097cb3ecf3f5 button.colab-df-convert');\n",
              "      buttonEl.style.display =\n",
              "        google.colab.kernel.accessAllowed ? 'block' : 'none';\n",
              "\n",
              "      async function convertToInteractive(key) {\n",
              "        const element = document.querySelector('#df-53910496-ca1a-4391-a610-097cb3ecf3f5');\n",
              "        const dataTable =\n",
              "          await google.colab.kernel.invokeFunction('convertToInteractive',\n",
              "                                                    [key], {});\n",
              "        if (!dataTable) return;\n",
              "\n",
              "        const docLinkHtml = 'Like what you see? Visit the ' +\n",
              "          '<a target=\"_blank\" href=https://colab.research.google.com/notebooks/data_table.ipynb>data table notebook</a>'\n",
              "          + ' to learn more about interactive tables.';\n",
              "        element.innerHTML = '';\n",
              "        dataTable['output_type'] = 'display_data';\n",
              "        await google.colab.output.renderOutput(dataTable, element);\n",
              "        const docLink = document.createElement('div');\n",
              "        docLink.innerHTML = docLinkHtml;\n",
              "        element.appendChild(docLink);\n",
              "      }\n",
              "    </script>\n",
              "  </div>\n",
              "\n",
              "\n",
              "<div id=\"df-3e8a7e74-7e96-45e9-8002-d036a98b36c9\">\n",
              "  <button class=\"colab-df-quickchart\" onclick=\"quickchart('df-3e8a7e74-7e96-45e9-8002-d036a98b36c9')\"\n",
              "            title=\"Suggest charts\"\n",
              "            style=\"display:none;\">\n",
              "\n",
              "<svg xmlns=\"http://www.w3.org/2000/svg\" height=\"24px\"viewBox=\"0 0 24 24\"\n",
              "     width=\"24px\">\n",
              "    <g>\n",
              "        <path d=\"M19 3H5c-1.1 0-2 .9-2 2v14c0 1.1.9 2 2 2h14c1.1 0 2-.9 2-2V5c0-1.1-.9-2-2-2zM9 17H7v-7h2v7zm4 0h-2V7h2v10zm4 0h-2v-4h2v4z\"/>\n",
              "    </g>\n",
              "</svg>\n",
              "  </button>\n",
              "\n",
              "<style>\n",
              "  .colab-df-quickchart {\n",
              "      --bg-color: #E8F0FE;\n",
              "      --fill-color: #1967D2;\n",
              "      --hover-bg-color: #E2EBFA;\n",
              "      --hover-fill-color: #174EA6;\n",
              "      --disabled-fill-color: #AAA;\n",
              "      --disabled-bg-color: #DDD;\n",
              "  }\n",
              "\n",
              "  [theme=dark] .colab-df-quickchart {\n",
              "      --bg-color: #3B4455;\n",
              "      --fill-color: #D2E3FC;\n",
              "      --hover-bg-color: #434B5C;\n",
              "      --hover-fill-color: #FFFFFF;\n",
              "      --disabled-bg-color: #3B4455;\n",
              "      --disabled-fill-color: #666;\n",
              "  }\n",
              "\n",
              "  .colab-df-quickchart {\n",
              "    background-color: var(--bg-color);\n",
              "    border: none;\n",
              "    border-radius: 50%;\n",
              "    cursor: pointer;\n",
              "    display: none;\n",
              "    fill: var(--fill-color);\n",
              "    height: 32px;\n",
              "    padding: 0;\n",
              "    width: 32px;\n",
              "  }\n",
              "\n",
              "  .colab-df-quickchart:hover {\n",
              "    background-color: var(--hover-bg-color);\n",
              "    box-shadow: 0 1px 2px rgba(60, 64, 67, 0.3), 0 1px 3px 1px rgba(60, 64, 67, 0.15);\n",
              "    fill: var(--button-hover-fill-color);\n",
              "  }\n",
              "\n",
              "  .colab-df-quickchart-complete:disabled,\n",
              "  .colab-df-quickchart-complete:disabled:hover {\n",
              "    background-color: var(--disabled-bg-color);\n",
              "    fill: var(--disabled-fill-color);\n",
              "    box-shadow: none;\n",
              "  }\n",
              "\n",
              "  .colab-df-spinner {\n",
              "    border: 2px solid var(--fill-color);\n",
              "    border-color: transparent;\n",
              "    border-bottom-color: var(--fill-color);\n",
              "    animation:\n",
              "      spin 1s steps(1) infinite;\n",
              "  }\n",
              "\n",
              "  @keyframes spin {\n",
              "    0% {\n",
              "      border-color: transparent;\n",
              "      border-bottom-color: var(--fill-color);\n",
              "      border-left-color: var(--fill-color);\n",
              "    }\n",
              "    20% {\n",
              "      border-color: transparent;\n",
              "      border-left-color: var(--fill-color);\n",
              "      border-top-color: var(--fill-color);\n",
              "    }\n",
              "    30% {\n",
              "      border-color: transparent;\n",
              "      border-left-color: var(--fill-color);\n",
              "      border-top-color: var(--fill-color);\n",
              "      border-right-color: var(--fill-color);\n",
              "    }\n",
              "    40% {\n",
              "      border-color: transparent;\n",
              "      border-right-color: var(--fill-color);\n",
              "      border-top-color: var(--fill-color);\n",
              "    }\n",
              "    60% {\n",
              "      border-color: transparent;\n",
              "      border-right-color: var(--fill-color);\n",
              "    }\n",
              "    80% {\n",
              "      border-color: transparent;\n",
              "      border-right-color: var(--fill-color);\n",
              "      border-bottom-color: var(--fill-color);\n",
              "    }\n",
              "    90% {\n",
              "      border-color: transparent;\n",
              "      border-bottom-color: var(--fill-color);\n",
              "    }\n",
              "  }\n",
              "</style>\n",
              "\n",
              "  <script>\n",
              "    async function quickchart(key) {\n",
              "      const quickchartButtonEl =\n",
              "        document.querySelector('#' + key + ' button');\n",
              "      quickchartButtonEl.disabled = true;  // To prevent multiple clicks.\n",
              "      quickchartButtonEl.classList.add('colab-df-spinner');\n",
              "      try {\n",
              "        const charts = await google.colab.kernel.invokeFunction(\n",
              "            'suggestCharts', [key], {});\n",
              "      } catch (error) {\n",
              "        console.error('Error during call to suggestCharts:', error);\n",
              "      }\n",
              "      quickchartButtonEl.classList.remove('colab-df-spinner');\n",
              "      quickchartButtonEl.classList.add('colab-df-quickchart-complete');\n",
              "    }\n",
              "    (() => {\n",
              "      let quickchartButtonEl =\n",
              "        document.querySelector('#df-3e8a7e74-7e96-45e9-8002-d036a98b36c9 button');\n",
              "      quickchartButtonEl.style.display =\n",
              "        google.colab.kernel.accessAllowed ? 'block' : 'none';\n",
              "    })();\n",
              "  </script>\n",
              "</div>\n",
              "\n",
              "    </div>\n",
              "  </div>\n"
            ],
            "application/vnd.google.colaboratory.intrinsic+json": {
              "type": "dataframe",
              "summary": "{\n  \"name\": \"data\",\n  \"rows\": 5,\n  \"fields\": [\n    {\n      \"column\": \"produk_id\",\n      \"properties\": {\n        \"dtype\": \"number\",\n        \"std\": 1,\n        \"min\": 546,\n        \"max\": 550,\n        \"num_unique_values\": 5,\n        \"samples\": [\n          547,\n          550,\n          548\n        ],\n        \"semantic_type\": \"\",\n        \"description\": \"\"\n      }\n    },\n    {\n      \"column\": \"nama_produk\",\n      \"properties\": {\n        \"dtype\": \"string\",\n        \"num_unique_values\": 5,\n        \"samples\": [\n          \"Produk_547\",\n          \"Produk_550\",\n          \"Produk_548\"\n        ],\n        \"semantic_type\": \"\",\n        \"description\": \"\"\n      }\n    },\n    {\n      \"column\": \"kategori\",\n      \"properties\": {\n        \"dtype\": \"string\",\n        \"num_unique_values\": 3,\n        \"samples\": [\n          \"Laptop\",\n          \"Headphone\",\n          \"Tablet\"\n        ],\n        \"semantic_type\": \"\",\n        \"description\": \"\"\n      }\n    },\n    {\n      \"column\": \"harga\",\n      \"properties\": {\n        \"dtype\": \"number\",\n        \"std\": 86.65621731878215,\n        \"min\": 388.0,\n        \"max\": 628.0,\n        \"num_unique_values\": 5,\n        \"samples\": [\n          628.0,\n          388.0,\n          465.0\n        ],\n        \"semantic_type\": \"\",\n        \"description\": \"\"\n      }\n    },\n    {\n      \"column\": \"rating\",\n      \"properties\": {\n        \"dtype\": \"number\",\n        \"std\": 0.6066300355241241,\n        \"min\": 3.1,\n        \"max\": 4.7,\n        \"num_unique_values\": 4,\n        \"samples\": [\n          4.7,\n          3.1,\n          3.9\n        ],\n        \"semantic_type\": \"\",\n        \"description\": \"\"\n      }\n    },\n    {\n      \"column\": \"jumlah_ulasan\",\n      \"properties\": {\n        \"dtype\": \"number\",\n        \"std\": 159.13924720193947,\n        \"min\": 19.0,\n        \"max\": 414.0,\n        \"num_unique_values\": 5,\n        \"samples\": [\n          414.0,\n          240.0,\n          393.0\n        ],\n        \"semantic_type\": \"\",\n        \"description\": \"\"\n      }\n    },\n    {\n      \"column\": \"negara_asal\",\n      \"properties\": {\n        \"dtype\": \"string\",\n        \"num_unique_values\": 4,\n        \"samples\": [\n          \"USA\",\n          \"Germany\",\n          \"China\"\n        ],\n        \"semantic_type\": \"\",\n        \"description\": \"\"\n      }\n    }\n  ]\n}"
            }
          },
          "metadata": {},
          "execution_count": 49
        }
      ]
    },
    {
      "cell_type": "code",
      "source": [
        "#melihat statistika deskriptif\n",
        "data.describe()"
      ],
      "metadata": {
        "colab": {
          "base_uri": "https://localhost:8080/",
          "height": 300
        },
        "id": "jWZJUvnkaA2g",
        "outputId": "c1a267db-3e39-4cbd-fa90-0778c67db271"
      },
      "execution_count": 50,
      "outputs": [
        {
          "output_type": "execute_result",
          "data": {
            "text/plain": [
              "        produk_id        harga      rating  jumlah_ulasan\n",
              "count  550.000000   520.000000  500.000000     530.000000\n",
              "mean   275.500000   565.715385    4.005600     259.671698\n",
              "std    158.915596   625.886725    0.571052     142.655380\n",
              "min      1.000000  -213.000000    3.000000      12.000000\n",
              "25%    138.250000   374.000000    3.500000     139.000000\n",
              "50%    275.500000   516.000000    4.000000     262.500000\n",
              "75%    412.750000   656.250000    4.500000     390.750000\n",
              "max    550.000000  8341.000000    5.000000     499.000000"
            ],
            "text/html": [
              "\n",
              "  <div id=\"df-3ee23d05-f4a7-4692-9173-946083d3ae90\" class=\"colab-df-container\">\n",
              "    <div>\n",
              "<style scoped>\n",
              "    .dataframe tbody tr th:only-of-type {\n",
              "        vertical-align: middle;\n",
              "    }\n",
              "\n",
              "    .dataframe tbody tr th {\n",
              "        vertical-align: top;\n",
              "    }\n",
              "\n",
              "    .dataframe thead th {\n",
              "        text-align: right;\n",
              "    }\n",
              "</style>\n",
              "<table border=\"1\" class=\"dataframe\">\n",
              "  <thead>\n",
              "    <tr style=\"text-align: right;\">\n",
              "      <th></th>\n",
              "      <th>produk_id</th>\n",
              "      <th>harga</th>\n",
              "      <th>rating</th>\n",
              "      <th>jumlah_ulasan</th>\n",
              "    </tr>\n",
              "  </thead>\n",
              "  <tbody>\n",
              "    <tr>\n",
              "      <th>count</th>\n",
              "      <td>550.000000</td>\n",
              "      <td>520.000000</td>\n",
              "      <td>500.000000</td>\n",
              "      <td>530.000000</td>\n",
              "    </tr>\n",
              "    <tr>\n",
              "      <th>mean</th>\n",
              "      <td>275.500000</td>\n",
              "      <td>565.715385</td>\n",
              "      <td>4.005600</td>\n",
              "      <td>259.671698</td>\n",
              "    </tr>\n",
              "    <tr>\n",
              "      <th>std</th>\n",
              "      <td>158.915596</td>\n",
              "      <td>625.886725</td>\n",
              "      <td>0.571052</td>\n",
              "      <td>142.655380</td>\n",
              "    </tr>\n",
              "    <tr>\n",
              "      <th>min</th>\n",
              "      <td>1.000000</td>\n",
              "      <td>-213.000000</td>\n",
              "      <td>3.000000</td>\n",
              "      <td>12.000000</td>\n",
              "    </tr>\n",
              "    <tr>\n",
              "      <th>25%</th>\n",
              "      <td>138.250000</td>\n",
              "      <td>374.000000</td>\n",
              "      <td>3.500000</td>\n",
              "      <td>139.000000</td>\n",
              "    </tr>\n",
              "    <tr>\n",
              "      <th>50%</th>\n",
              "      <td>275.500000</td>\n",
              "      <td>516.000000</td>\n",
              "      <td>4.000000</td>\n",
              "      <td>262.500000</td>\n",
              "    </tr>\n",
              "    <tr>\n",
              "      <th>75%</th>\n",
              "      <td>412.750000</td>\n",
              "      <td>656.250000</td>\n",
              "      <td>4.500000</td>\n",
              "      <td>390.750000</td>\n",
              "    </tr>\n",
              "    <tr>\n",
              "      <th>max</th>\n",
              "      <td>550.000000</td>\n",
              "      <td>8341.000000</td>\n",
              "      <td>5.000000</td>\n",
              "      <td>499.000000</td>\n",
              "    </tr>\n",
              "  </tbody>\n",
              "</table>\n",
              "</div>\n",
              "    <div class=\"colab-df-buttons\">\n",
              "\n",
              "  <div class=\"colab-df-container\">\n",
              "    <button class=\"colab-df-convert\" onclick=\"convertToInteractive('df-3ee23d05-f4a7-4692-9173-946083d3ae90')\"\n",
              "            title=\"Convert this dataframe to an interactive table.\"\n",
              "            style=\"display:none;\">\n",
              "\n",
              "  <svg xmlns=\"http://www.w3.org/2000/svg\" height=\"24px\" viewBox=\"0 -960 960 960\">\n",
              "    <path d=\"M120-120v-720h720v720H120Zm60-500h600v-160H180v160Zm220 220h160v-160H400v160Zm0 220h160v-160H400v160ZM180-400h160v-160H180v160Zm440 0h160v-160H620v160ZM180-180h160v-160H180v160Zm440 0h160v-160H620v160Z\"/>\n",
              "  </svg>\n",
              "    </button>\n",
              "\n",
              "  <style>\n",
              "    .colab-df-container {\n",
              "      display:flex;\n",
              "      gap: 12px;\n",
              "    }\n",
              "\n",
              "    .colab-df-convert {\n",
              "      background-color: #E8F0FE;\n",
              "      border: none;\n",
              "      border-radius: 50%;\n",
              "      cursor: pointer;\n",
              "      display: none;\n",
              "      fill: #1967D2;\n",
              "      height: 32px;\n",
              "      padding: 0 0 0 0;\n",
              "      width: 32px;\n",
              "    }\n",
              "\n",
              "    .colab-df-convert:hover {\n",
              "      background-color: #E2EBFA;\n",
              "      box-shadow: 0px 1px 2px rgba(60, 64, 67, 0.3), 0px 1px 3px 1px rgba(60, 64, 67, 0.15);\n",
              "      fill: #174EA6;\n",
              "    }\n",
              "\n",
              "    .colab-df-buttons div {\n",
              "      margin-bottom: 4px;\n",
              "    }\n",
              "\n",
              "    [theme=dark] .colab-df-convert {\n",
              "      background-color: #3B4455;\n",
              "      fill: #D2E3FC;\n",
              "    }\n",
              "\n",
              "    [theme=dark] .colab-df-convert:hover {\n",
              "      background-color: #434B5C;\n",
              "      box-shadow: 0px 1px 3px 1px rgba(0, 0, 0, 0.15);\n",
              "      filter: drop-shadow(0px 1px 2px rgba(0, 0, 0, 0.3));\n",
              "      fill: #FFFFFF;\n",
              "    }\n",
              "  </style>\n",
              "\n",
              "    <script>\n",
              "      const buttonEl =\n",
              "        document.querySelector('#df-3ee23d05-f4a7-4692-9173-946083d3ae90 button.colab-df-convert');\n",
              "      buttonEl.style.display =\n",
              "        google.colab.kernel.accessAllowed ? 'block' : 'none';\n",
              "\n",
              "      async function convertToInteractive(key) {\n",
              "        const element = document.querySelector('#df-3ee23d05-f4a7-4692-9173-946083d3ae90');\n",
              "        const dataTable =\n",
              "          await google.colab.kernel.invokeFunction('convertToInteractive',\n",
              "                                                    [key], {});\n",
              "        if (!dataTable) return;\n",
              "\n",
              "        const docLinkHtml = 'Like what you see? Visit the ' +\n",
              "          '<a target=\"_blank\" href=https://colab.research.google.com/notebooks/data_table.ipynb>data table notebook</a>'\n",
              "          + ' to learn more about interactive tables.';\n",
              "        element.innerHTML = '';\n",
              "        dataTable['output_type'] = 'display_data';\n",
              "        await google.colab.output.renderOutput(dataTable, element);\n",
              "        const docLink = document.createElement('div');\n",
              "        docLink.innerHTML = docLinkHtml;\n",
              "        element.appendChild(docLink);\n",
              "      }\n",
              "    </script>\n",
              "  </div>\n",
              "\n",
              "\n",
              "<div id=\"df-55a6db11-6017-4161-af21-322e27d20336\">\n",
              "  <button class=\"colab-df-quickchart\" onclick=\"quickchart('df-55a6db11-6017-4161-af21-322e27d20336')\"\n",
              "            title=\"Suggest charts\"\n",
              "            style=\"display:none;\">\n",
              "\n",
              "<svg xmlns=\"http://www.w3.org/2000/svg\" height=\"24px\"viewBox=\"0 0 24 24\"\n",
              "     width=\"24px\">\n",
              "    <g>\n",
              "        <path d=\"M19 3H5c-1.1 0-2 .9-2 2v14c0 1.1.9 2 2 2h14c1.1 0 2-.9 2-2V5c0-1.1-.9-2-2-2zM9 17H7v-7h2v7zm4 0h-2V7h2v10zm4 0h-2v-4h2v4z\"/>\n",
              "    </g>\n",
              "</svg>\n",
              "  </button>\n",
              "\n",
              "<style>\n",
              "  .colab-df-quickchart {\n",
              "      --bg-color: #E8F0FE;\n",
              "      --fill-color: #1967D2;\n",
              "      --hover-bg-color: #E2EBFA;\n",
              "      --hover-fill-color: #174EA6;\n",
              "      --disabled-fill-color: #AAA;\n",
              "      --disabled-bg-color: #DDD;\n",
              "  }\n",
              "\n",
              "  [theme=dark] .colab-df-quickchart {\n",
              "      --bg-color: #3B4455;\n",
              "      --fill-color: #D2E3FC;\n",
              "      --hover-bg-color: #434B5C;\n",
              "      --hover-fill-color: #FFFFFF;\n",
              "      --disabled-bg-color: #3B4455;\n",
              "      --disabled-fill-color: #666;\n",
              "  }\n",
              "\n",
              "  .colab-df-quickchart {\n",
              "    background-color: var(--bg-color);\n",
              "    border: none;\n",
              "    border-radius: 50%;\n",
              "    cursor: pointer;\n",
              "    display: none;\n",
              "    fill: var(--fill-color);\n",
              "    height: 32px;\n",
              "    padding: 0;\n",
              "    width: 32px;\n",
              "  }\n",
              "\n",
              "  .colab-df-quickchart:hover {\n",
              "    background-color: var(--hover-bg-color);\n",
              "    box-shadow: 0 1px 2px rgba(60, 64, 67, 0.3), 0 1px 3px 1px rgba(60, 64, 67, 0.15);\n",
              "    fill: var(--button-hover-fill-color);\n",
              "  }\n",
              "\n",
              "  .colab-df-quickchart-complete:disabled,\n",
              "  .colab-df-quickchart-complete:disabled:hover {\n",
              "    background-color: var(--disabled-bg-color);\n",
              "    fill: var(--disabled-fill-color);\n",
              "    box-shadow: none;\n",
              "  }\n",
              "\n",
              "  .colab-df-spinner {\n",
              "    border: 2px solid var(--fill-color);\n",
              "    border-color: transparent;\n",
              "    border-bottom-color: var(--fill-color);\n",
              "    animation:\n",
              "      spin 1s steps(1) infinite;\n",
              "  }\n",
              "\n",
              "  @keyframes spin {\n",
              "    0% {\n",
              "      border-color: transparent;\n",
              "      border-bottom-color: var(--fill-color);\n",
              "      border-left-color: var(--fill-color);\n",
              "    }\n",
              "    20% {\n",
              "      border-color: transparent;\n",
              "      border-left-color: var(--fill-color);\n",
              "      border-top-color: var(--fill-color);\n",
              "    }\n",
              "    30% {\n",
              "      border-color: transparent;\n",
              "      border-left-color: var(--fill-color);\n",
              "      border-top-color: var(--fill-color);\n",
              "      border-right-color: var(--fill-color);\n",
              "    }\n",
              "    40% {\n",
              "      border-color: transparent;\n",
              "      border-right-color: var(--fill-color);\n",
              "      border-top-color: var(--fill-color);\n",
              "    }\n",
              "    60% {\n",
              "      border-color: transparent;\n",
              "      border-right-color: var(--fill-color);\n",
              "    }\n",
              "    80% {\n",
              "      border-color: transparent;\n",
              "      border-right-color: var(--fill-color);\n",
              "      border-bottom-color: var(--fill-color);\n",
              "    }\n",
              "    90% {\n",
              "      border-color: transparent;\n",
              "      border-bottom-color: var(--fill-color);\n",
              "    }\n",
              "  }\n",
              "</style>\n",
              "\n",
              "  <script>\n",
              "    async function quickchart(key) {\n",
              "      const quickchartButtonEl =\n",
              "        document.querySelector('#' + key + ' button');\n",
              "      quickchartButtonEl.disabled = true;  // To prevent multiple clicks.\n",
              "      quickchartButtonEl.classList.add('colab-df-spinner');\n",
              "      try {\n",
              "        const charts = await google.colab.kernel.invokeFunction(\n",
              "            'suggestCharts', [key], {});\n",
              "      } catch (error) {\n",
              "        console.error('Error during call to suggestCharts:', error);\n",
              "      }\n",
              "      quickchartButtonEl.classList.remove('colab-df-spinner');\n",
              "      quickchartButtonEl.classList.add('colab-df-quickchart-complete');\n",
              "    }\n",
              "    (() => {\n",
              "      let quickchartButtonEl =\n",
              "        document.querySelector('#df-55a6db11-6017-4161-af21-322e27d20336 button');\n",
              "      quickchartButtonEl.style.display =\n",
              "        google.colab.kernel.accessAllowed ? 'block' : 'none';\n",
              "    })();\n",
              "  </script>\n",
              "</div>\n",
              "\n",
              "    </div>\n",
              "  </div>\n"
            ],
            "application/vnd.google.colaboratory.intrinsic+json": {
              "type": "dataframe",
              "summary": "{\n  \"name\": \"data\",\n  \"rows\": 8,\n  \"fields\": [\n    {\n      \"column\": \"produk_id\",\n      \"properties\": {\n        \"dtype\": \"number\",\n        \"std\": 197.9179596669068,\n        \"min\": 1.0,\n        \"max\": 550.0,\n        \"num_unique_values\": 6,\n        \"samples\": [\n          550.0,\n          275.5,\n          412.75\n        ],\n        \"semantic_type\": \"\",\n        \"description\": \"\"\n      }\n    },\n    {\n      \"column\": \"harga\",\n      \"properties\": {\n        \"dtype\": \"number\",\n        \"std\": 2808.96296621019,\n        \"min\": -213.0,\n        \"max\": 8341.0,\n        \"num_unique_values\": 8,\n        \"samples\": [\n          565.7153846153847,\n          516.0,\n          520.0\n        ],\n        \"semantic_type\": \"\",\n        \"description\": \"\"\n      }\n    },\n    {\n      \"column\": \"rating\",\n      \"properties\": {\n        \"dtype\": \"number\",\n        \"std\": 175.54050729187298,\n        \"min\": 0.5710523983693329,\n        \"max\": 500.0,\n        \"num_unique_values\": 8,\n        \"samples\": [\n          4.0056,\n          4.0,\n          500.0\n        ],\n        \"semantic_type\": \"\",\n        \"description\": \"\"\n      }\n    },\n    {\n      \"column\": \"jumlah_ulasan\",\n      \"properties\": {\n        \"dtype\": \"number\",\n        \"std\": 182.83956735825046,\n        \"min\": 12.0,\n        \"max\": 530.0,\n        \"num_unique_values\": 8,\n        \"samples\": [\n          259.6716981132075,\n          262.5,\n          530.0\n        ],\n        \"semantic_type\": \"\",\n        \"description\": \"\"\n      }\n    }\n  ]\n}"
            }
          },
          "metadata": {},
          "execution_count": 50
        }
      ]
    },
    {
      "cell_type": "markdown",
      "source": [
        "#1. B"
      ],
      "metadata": {
        "id": "12ypoPeVaEq3"
      }
    },
    {
      "cell_type": "markdown",
      "source": [
        "**Tampilkan informasi tipe data setiap kolom dan cek apakah ada missing values.**"
      ],
      "metadata": {
        "id": "02JH1dzhaJMv"
      }
    },
    {
      "cell_type": "code",
      "source": [
        "data.info()"
      ],
      "metadata": {
        "colab": {
          "base_uri": "https://localhost:8080/"
        },
        "id": "31CM1mZTaHur",
        "outputId": "e4e2983c-7211-440e-95ed-59cfa39737ca"
      },
      "execution_count": 8,
      "outputs": [
        {
          "output_type": "stream",
          "name": "stdout",
          "text": [
            "<class 'pandas.core.frame.DataFrame'>\n",
            "RangeIndex: 550 entries, 0 to 549\n",
            "Data columns (total 7 columns):\n",
            " #   Column         Non-Null Count  Dtype  \n",
            "---  ------         --------------  -----  \n",
            " 0   produk_id      550 non-null    int64  \n",
            " 1   nama_produk    550 non-null    object \n",
            " 2   kategori       550 non-null    object \n",
            " 3   harga          520 non-null    float64\n",
            " 4   rating         500 non-null    float64\n",
            " 5   jumlah_ulasan  530 non-null    float64\n",
            " 6   negara_asal    550 non-null    object \n",
            "dtypes: float64(3), int64(1), object(3)\n",
            "memory usage: 30.2+ KB\n"
          ]
        }
      ]
    },
    {
      "cell_type": "markdown",
      "source": [
        "Berdasarkan output diatas, dapat disimpulkan bahwa dataset tersebut, memiliki total: 7 kolom, dengan jumlah maksimal baris untuk setiap kolom sebanyak: 550 baris. Akan tetapi terdapat beberapa kolom yang memiliki jumlah baris < 550, maka akan dilakukan proses identifikasi lebih lanjut."
      ],
      "metadata": {
        "id": "Jvy6qrIzaTl8"
      }
    },
    {
      "cell_type": "markdown",
      "source": [
        "#2. A"
      ],
      "metadata": {
        "id": "tGTmyaH4aVou"
      }
    },
    {
      "cell_type": "markdown",
      "source": [
        "**Cek missing values pada dataset. Berapa jumlah missing values di setiap kolom?**"
      ],
      "metadata": {
        "id": "1c7a-t_7aZaK"
      }
    },
    {
      "cell_type": "code",
      "source": [
        "data.isnull()"
      ],
      "metadata": {
        "colab": {
          "base_uri": "https://localhost:8080/",
          "height": 424
        },
        "id": "N-zRDFQbabaW",
        "outputId": "23b63311-e9cb-479b-d818-cb81232e624b"
      },
      "execution_count": 9,
      "outputs": [
        {
          "output_type": "execute_result",
          "data": {
            "text/plain": [
              "     produk_id  nama_produk  kategori  harga  rating  jumlah_ulasan  \\\n",
              "0        False        False     False  False   False          False   \n",
              "1        False        False     False  False   False          False   \n",
              "2        False        False     False  False   False          False   \n",
              "3        False        False     False  False   False          False   \n",
              "4        False        False     False  False   False          False   \n",
              "..         ...          ...       ...    ...     ...            ...   \n",
              "545      False        False     False  False   False          False   \n",
              "546      False        False     False  False   False          False   \n",
              "547      False        False     False  False   False          False   \n",
              "548      False        False     False  False   False          False   \n",
              "549      False        False     False  False   False          False   \n",
              "\n",
              "     negara_asal  \n",
              "0          False  \n",
              "1          False  \n",
              "2          False  \n",
              "3          False  \n",
              "4          False  \n",
              "..           ...  \n",
              "545        False  \n",
              "546        False  \n",
              "547        False  \n",
              "548        False  \n",
              "549        False  \n",
              "\n",
              "[550 rows x 7 columns]"
            ],
            "text/html": [
              "\n",
              "  <div id=\"df-e5e47246-c61a-4b92-88c8-ae096ae987d5\" class=\"colab-df-container\">\n",
              "    <div>\n",
              "<style scoped>\n",
              "    .dataframe tbody tr th:only-of-type {\n",
              "        vertical-align: middle;\n",
              "    }\n",
              "\n",
              "    .dataframe tbody tr th {\n",
              "        vertical-align: top;\n",
              "    }\n",
              "\n",
              "    .dataframe thead th {\n",
              "        text-align: right;\n",
              "    }\n",
              "</style>\n",
              "<table border=\"1\" class=\"dataframe\">\n",
              "  <thead>\n",
              "    <tr style=\"text-align: right;\">\n",
              "      <th></th>\n",
              "      <th>produk_id</th>\n",
              "      <th>nama_produk</th>\n",
              "      <th>kategori</th>\n",
              "      <th>harga</th>\n",
              "      <th>rating</th>\n",
              "      <th>jumlah_ulasan</th>\n",
              "      <th>negara_asal</th>\n",
              "    </tr>\n",
              "  </thead>\n",
              "  <tbody>\n",
              "    <tr>\n",
              "      <th>0</th>\n",
              "      <td>False</td>\n",
              "      <td>False</td>\n",
              "      <td>False</td>\n",
              "      <td>False</td>\n",
              "      <td>False</td>\n",
              "      <td>False</td>\n",
              "      <td>False</td>\n",
              "    </tr>\n",
              "    <tr>\n",
              "      <th>1</th>\n",
              "      <td>False</td>\n",
              "      <td>False</td>\n",
              "      <td>False</td>\n",
              "      <td>False</td>\n",
              "      <td>False</td>\n",
              "      <td>False</td>\n",
              "      <td>False</td>\n",
              "    </tr>\n",
              "    <tr>\n",
              "      <th>2</th>\n",
              "      <td>False</td>\n",
              "      <td>False</td>\n",
              "      <td>False</td>\n",
              "      <td>False</td>\n",
              "      <td>False</td>\n",
              "      <td>False</td>\n",
              "      <td>False</td>\n",
              "    </tr>\n",
              "    <tr>\n",
              "      <th>3</th>\n",
              "      <td>False</td>\n",
              "      <td>False</td>\n",
              "      <td>False</td>\n",
              "      <td>False</td>\n",
              "      <td>False</td>\n",
              "      <td>False</td>\n",
              "      <td>False</td>\n",
              "    </tr>\n",
              "    <tr>\n",
              "      <th>4</th>\n",
              "      <td>False</td>\n",
              "      <td>False</td>\n",
              "      <td>False</td>\n",
              "      <td>False</td>\n",
              "      <td>False</td>\n",
              "      <td>False</td>\n",
              "      <td>False</td>\n",
              "    </tr>\n",
              "    <tr>\n",
              "      <th>...</th>\n",
              "      <td>...</td>\n",
              "      <td>...</td>\n",
              "      <td>...</td>\n",
              "      <td>...</td>\n",
              "      <td>...</td>\n",
              "      <td>...</td>\n",
              "      <td>...</td>\n",
              "    </tr>\n",
              "    <tr>\n",
              "      <th>545</th>\n",
              "      <td>False</td>\n",
              "      <td>False</td>\n",
              "      <td>False</td>\n",
              "      <td>False</td>\n",
              "      <td>False</td>\n",
              "      <td>False</td>\n",
              "      <td>False</td>\n",
              "    </tr>\n",
              "    <tr>\n",
              "      <th>546</th>\n",
              "      <td>False</td>\n",
              "      <td>False</td>\n",
              "      <td>False</td>\n",
              "      <td>False</td>\n",
              "      <td>False</td>\n",
              "      <td>False</td>\n",
              "      <td>False</td>\n",
              "    </tr>\n",
              "    <tr>\n",
              "      <th>547</th>\n",
              "      <td>False</td>\n",
              "      <td>False</td>\n",
              "      <td>False</td>\n",
              "      <td>False</td>\n",
              "      <td>False</td>\n",
              "      <td>False</td>\n",
              "      <td>False</td>\n",
              "    </tr>\n",
              "    <tr>\n",
              "      <th>548</th>\n",
              "      <td>False</td>\n",
              "      <td>False</td>\n",
              "      <td>False</td>\n",
              "      <td>False</td>\n",
              "      <td>False</td>\n",
              "      <td>False</td>\n",
              "      <td>False</td>\n",
              "    </tr>\n",
              "    <tr>\n",
              "      <th>549</th>\n",
              "      <td>False</td>\n",
              "      <td>False</td>\n",
              "      <td>False</td>\n",
              "      <td>False</td>\n",
              "      <td>False</td>\n",
              "      <td>False</td>\n",
              "      <td>False</td>\n",
              "    </tr>\n",
              "  </tbody>\n",
              "</table>\n",
              "<p>550 rows × 7 columns</p>\n",
              "</div>\n",
              "    <div class=\"colab-df-buttons\">\n",
              "\n",
              "  <div class=\"colab-df-container\">\n",
              "    <button class=\"colab-df-convert\" onclick=\"convertToInteractive('df-e5e47246-c61a-4b92-88c8-ae096ae987d5')\"\n",
              "            title=\"Convert this dataframe to an interactive table.\"\n",
              "            style=\"display:none;\">\n",
              "\n",
              "  <svg xmlns=\"http://www.w3.org/2000/svg\" height=\"24px\" viewBox=\"0 -960 960 960\">\n",
              "    <path d=\"M120-120v-720h720v720H120Zm60-500h600v-160H180v160Zm220 220h160v-160H400v160Zm0 220h160v-160H400v160ZM180-400h160v-160H180v160Zm440 0h160v-160H620v160ZM180-180h160v-160H180v160Zm440 0h160v-160H620v160Z\"/>\n",
              "  </svg>\n",
              "    </button>\n",
              "\n",
              "  <style>\n",
              "    .colab-df-container {\n",
              "      display:flex;\n",
              "      gap: 12px;\n",
              "    }\n",
              "\n",
              "    .colab-df-convert {\n",
              "      background-color: #E8F0FE;\n",
              "      border: none;\n",
              "      border-radius: 50%;\n",
              "      cursor: pointer;\n",
              "      display: none;\n",
              "      fill: #1967D2;\n",
              "      height: 32px;\n",
              "      padding: 0 0 0 0;\n",
              "      width: 32px;\n",
              "    }\n",
              "\n",
              "    .colab-df-convert:hover {\n",
              "      background-color: #E2EBFA;\n",
              "      box-shadow: 0px 1px 2px rgba(60, 64, 67, 0.3), 0px 1px 3px 1px rgba(60, 64, 67, 0.15);\n",
              "      fill: #174EA6;\n",
              "    }\n",
              "\n",
              "    .colab-df-buttons div {\n",
              "      margin-bottom: 4px;\n",
              "    }\n",
              "\n",
              "    [theme=dark] .colab-df-convert {\n",
              "      background-color: #3B4455;\n",
              "      fill: #D2E3FC;\n",
              "    }\n",
              "\n",
              "    [theme=dark] .colab-df-convert:hover {\n",
              "      background-color: #434B5C;\n",
              "      box-shadow: 0px 1px 3px 1px rgba(0, 0, 0, 0.15);\n",
              "      filter: drop-shadow(0px 1px 2px rgba(0, 0, 0, 0.3));\n",
              "      fill: #FFFFFF;\n",
              "    }\n",
              "  </style>\n",
              "\n",
              "    <script>\n",
              "      const buttonEl =\n",
              "        document.querySelector('#df-e5e47246-c61a-4b92-88c8-ae096ae987d5 button.colab-df-convert');\n",
              "      buttonEl.style.display =\n",
              "        google.colab.kernel.accessAllowed ? 'block' : 'none';\n",
              "\n",
              "      async function convertToInteractive(key) {\n",
              "        const element = document.querySelector('#df-e5e47246-c61a-4b92-88c8-ae096ae987d5');\n",
              "        const dataTable =\n",
              "          await google.colab.kernel.invokeFunction('convertToInteractive',\n",
              "                                                    [key], {});\n",
              "        if (!dataTable) return;\n",
              "\n",
              "        const docLinkHtml = 'Like what you see? Visit the ' +\n",
              "          '<a target=\"_blank\" href=https://colab.research.google.com/notebooks/data_table.ipynb>data table notebook</a>'\n",
              "          + ' to learn more about interactive tables.';\n",
              "        element.innerHTML = '';\n",
              "        dataTable['output_type'] = 'display_data';\n",
              "        await google.colab.output.renderOutput(dataTable, element);\n",
              "        const docLink = document.createElement('div');\n",
              "        docLink.innerHTML = docLinkHtml;\n",
              "        element.appendChild(docLink);\n",
              "      }\n",
              "    </script>\n",
              "  </div>\n",
              "\n",
              "\n",
              "<div id=\"df-17c25df0-9ffe-4fc1-89de-4676fea01d1c\">\n",
              "  <button class=\"colab-df-quickchart\" onclick=\"quickchart('df-17c25df0-9ffe-4fc1-89de-4676fea01d1c')\"\n",
              "            title=\"Suggest charts\"\n",
              "            style=\"display:none;\">\n",
              "\n",
              "<svg xmlns=\"http://www.w3.org/2000/svg\" height=\"24px\"viewBox=\"0 0 24 24\"\n",
              "     width=\"24px\">\n",
              "    <g>\n",
              "        <path d=\"M19 3H5c-1.1 0-2 .9-2 2v14c0 1.1.9 2 2 2h14c1.1 0 2-.9 2-2V5c0-1.1-.9-2-2-2zM9 17H7v-7h2v7zm4 0h-2V7h2v10zm4 0h-2v-4h2v4z\"/>\n",
              "    </g>\n",
              "</svg>\n",
              "  </button>\n",
              "\n",
              "<style>\n",
              "  .colab-df-quickchart {\n",
              "      --bg-color: #E8F0FE;\n",
              "      --fill-color: #1967D2;\n",
              "      --hover-bg-color: #E2EBFA;\n",
              "      --hover-fill-color: #174EA6;\n",
              "      --disabled-fill-color: #AAA;\n",
              "      --disabled-bg-color: #DDD;\n",
              "  }\n",
              "\n",
              "  [theme=dark] .colab-df-quickchart {\n",
              "      --bg-color: #3B4455;\n",
              "      --fill-color: #D2E3FC;\n",
              "      --hover-bg-color: #434B5C;\n",
              "      --hover-fill-color: #FFFFFF;\n",
              "      --disabled-bg-color: #3B4455;\n",
              "      --disabled-fill-color: #666;\n",
              "  }\n",
              "\n",
              "  .colab-df-quickchart {\n",
              "    background-color: var(--bg-color);\n",
              "    border: none;\n",
              "    border-radius: 50%;\n",
              "    cursor: pointer;\n",
              "    display: none;\n",
              "    fill: var(--fill-color);\n",
              "    height: 32px;\n",
              "    padding: 0;\n",
              "    width: 32px;\n",
              "  }\n",
              "\n",
              "  .colab-df-quickchart:hover {\n",
              "    background-color: var(--hover-bg-color);\n",
              "    box-shadow: 0 1px 2px rgba(60, 64, 67, 0.3), 0 1px 3px 1px rgba(60, 64, 67, 0.15);\n",
              "    fill: var(--button-hover-fill-color);\n",
              "  }\n",
              "\n",
              "  .colab-df-quickchart-complete:disabled,\n",
              "  .colab-df-quickchart-complete:disabled:hover {\n",
              "    background-color: var(--disabled-bg-color);\n",
              "    fill: var(--disabled-fill-color);\n",
              "    box-shadow: none;\n",
              "  }\n",
              "\n",
              "  .colab-df-spinner {\n",
              "    border: 2px solid var(--fill-color);\n",
              "    border-color: transparent;\n",
              "    border-bottom-color: var(--fill-color);\n",
              "    animation:\n",
              "      spin 1s steps(1) infinite;\n",
              "  }\n",
              "\n",
              "  @keyframes spin {\n",
              "    0% {\n",
              "      border-color: transparent;\n",
              "      border-bottom-color: var(--fill-color);\n",
              "      border-left-color: var(--fill-color);\n",
              "    }\n",
              "    20% {\n",
              "      border-color: transparent;\n",
              "      border-left-color: var(--fill-color);\n",
              "      border-top-color: var(--fill-color);\n",
              "    }\n",
              "    30% {\n",
              "      border-color: transparent;\n",
              "      border-left-color: var(--fill-color);\n",
              "      border-top-color: var(--fill-color);\n",
              "      border-right-color: var(--fill-color);\n",
              "    }\n",
              "    40% {\n",
              "      border-color: transparent;\n",
              "      border-right-color: var(--fill-color);\n",
              "      border-top-color: var(--fill-color);\n",
              "    }\n",
              "    60% {\n",
              "      border-color: transparent;\n",
              "      border-right-color: var(--fill-color);\n",
              "    }\n",
              "    80% {\n",
              "      border-color: transparent;\n",
              "      border-right-color: var(--fill-color);\n",
              "      border-bottom-color: var(--fill-color);\n",
              "    }\n",
              "    90% {\n",
              "      border-color: transparent;\n",
              "      border-bottom-color: var(--fill-color);\n",
              "    }\n",
              "  }\n",
              "</style>\n",
              "\n",
              "  <script>\n",
              "    async function quickchart(key) {\n",
              "      const quickchartButtonEl =\n",
              "        document.querySelector('#' + key + ' button');\n",
              "      quickchartButtonEl.disabled = true;  // To prevent multiple clicks.\n",
              "      quickchartButtonEl.classList.add('colab-df-spinner');\n",
              "      try {\n",
              "        const charts = await google.colab.kernel.invokeFunction(\n",
              "            'suggestCharts', [key], {});\n",
              "      } catch (error) {\n",
              "        console.error('Error during call to suggestCharts:', error);\n",
              "      }\n",
              "      quickchartButtonEl.classList.remove('colab-df-spinner');\n",
              "      quickchartButtonEl.classList.add('colab-df-quickchart-complete');\n",
              "    }\n",
              "    (() => {\n",
              "      let quickchartButtonEl =\n",
              "        document.querySelector('#df-17c25df0-9ffe-4fc1-89de-4676fea01d1c button');\n",
              "      quickchartButtonEl.style.display =\n",
              "        google.colab.kernel.accessAllowed ? 'block' : 'none';\n",
              "    })();\n",
              "  </script>\n",
              "</div>\n",
              "\n",
              "    </div>\n",
              "  </div>\n"
            ],
            "application/vnd.google.colaboratory.intrinsic+json": {
              "type": "dataframe",
              "summary": "{\n  \"name\": \"data\",\n  \"rows\": 550,\n  \"fields\": [\n    {\n      \"column\": \"produk_id\",\n      \"properties\": {\n        \"dtype\": \"boolean\",\n        \"num_unique_values\": 1,\n        \"samples\": [\n          false\n        ],\n        \"semantic_type\": \"\",\n        \"description\": \"\"\n      }\n    },\n    {\n      \"column\": \"nama_produk\",\n      \"properties\": {\n        \"dtype\": \"boolean\",\n        \"num_unique_values\": 1,\n        \"samples\": [\n          false\n        ],\n        \"semantic_type\": \"\",\n        \"description\": \"\"\n      }\n    },\n    {\n      \"column\": \"kategori\",\n      \"properties\": {\n        \"dtype\": \"boolean\",\n        \"num_unique_values\": 1,\n        \"samples\": [\n          false\n        ],\n        \"semantic_type\": \"\",\n        \"description\": \"\"\n      }\n    },\n    {\n      \"column\": \"harga\",\n      \"properties\": {\n        \"dtype\": \"boolean\",\n        \"num_unique_values\": 2,\n        \"samples\": [\n          true\n        ],\n        \"semantic_type\": \"\",\n        \"description\": \"\"\n      }\n    },\n    {\n      \"column\": \"rating\",\n      \"properties\": {\n        \"dtype\": \"boolean\",\n        \"num_unique_values\": 2,\n        \"samples\": [\n          true\n        ],\n        \"semantic_type\": \"\",\n        \"description\": \"\"\n      }\n    },\n    {\n      \"column\": \"jumlah_ulasan\",\n      \"properties\": {\n        \"dtype\": \"boolean\",\n        \"num_unique_values\": 2,\n        \"samples\": [\n          true\n        ],\n        \"semantic_type\": \"\",\n        \"description\": \"\"\n      }\n    },\n    {\n      \"column\": \"negara_asal\",\n      \"properties\": {\n        \"dtype\": \"boolean\",\n        \"num_unique_values\": 1,\n        \"samples\": [\n          false\n        ],\n        \"semantic_type\": \"\",\n        \"description\": \"\"\n      }\n    }\n  ]\n}"
            }
          },
          "metadata": {},
          "execution_count": 9
        }
      ]
    },
    {
      "cell_type": "code",
      "source": [
        "np.sum(data.isnull())"
      ],
      "metadata": {
        "colab": {
          "base_uri": "https://localhost:8080/",
          "height": 358
        },
        "id": "e0pZ3P5-aesU",
        "outputId": "26aad0e0-6aa3-4154-ef41-04c094a16fd7"
      },
      "execution_count": 10,
      "outputs": [
        {
          "output_type": "stream",
          "name": "stderr",
          "text": [
            "/usr/local/lib/python3.11/dist-packages/numpy/core/fromnumeric.py:86: FutureWarning: The behavior of DataFrame.sum with axis=None is deprecated, in a future version this will reduce over both axes and return a scalar. To retain the old behavior, pass axis=0 (or do not pass axis)\n",
            "  return reduction(axis=axis, out=out, **passkwargs)\n"
          ]
        },
        {
          "output_type": "execute_result",
          "data": {
            "text/plain": [
              "produk_id         0\n",
              "nama_produk       0\n",
              "kategori          0\n",
              "harga            30\n",
              "rating           50\n",
              "jumlah_ulasan    20\n",
              "negara_asal       0\n",
              "dtype: int64"
            ],
            "text/html": [
              "<div>\n",
              "<style scoped>\n",
              "    .dataframe tbody tr th:only-of-type {\n",
              "        vertical-align: middle;\n",
              "    }\n",
              "\n",
              "    .dataframe tbody tr th {\n",
              "        vertical-align: top;\n",
              "    }\n",
              "\n",
              "    .dataframe thead th {\n",
              "        text-align: right;\n",
              "    }\n",
              "</style>\n",
              "<table border=\"1\" class=\"dataframe\">\n",
              "  <thead>\n",
              "    <tr style=\"text-align: right;\">\n",
              "      <th></th>\n",
              "      <th>0</th>\n",
              "    </tr>\n",
              "  </thead>\n",
              "  <tbody>\n",
              "    <tr>\n",
              "      <th>produk_id</th>\n",
              "      <td>0</td>\n",
              "    </tr>\n",
              "    <tr>\n",
              "      <th>nama_produk</th>\n",
              "      <td>0</td>\n",
              "    </tr>\n",
              "    <tr>\n",
              "      <th>kategori</th>\n",
              "      <td>0</td>\n",
              "    </tr>\n",
              "    <tr>\n",
              "      <th>harga</th>\n",
              "      <td>30</td>\n",
              "    </tr>\n",
              "    <tr>\n",
              "      <th>rating</th>\n",
              "      <td>50</td>\n",
              "    </tr>\n",
              "    <tr>\n",
              "      <th>jumlah_ulasan</th>\n",
              "      <td>20</td>\n",
              "    </tr>\n",
              "    <tr>\n",
              "      <th>negara_asal</th>\n",
              "      <td>0</td>\n",
              "    </tr>\n",
              "  </tbody>\n",
              "</table>\n",
              "</div><br><label><b>dtype:</b> int64</label>"
            ]
          },
          "metadata": {},
          "execution_count": 10
        }
      ]
    },
    {
      "cell_type": "markdown",
      "source": [
        "Berdasarkan output summarize tersebut, diperoleh bahwa kolom yang mengandung Missing Values (blanks/ N/A (Python : nan atau NaN)) adalah kolom harga, rating, dan jumlah_ulasan. Terdapat sebanyak 30 missing values pada kolom harga, 50 pada kolom rating, dan 20 pada kolom jumlah_ulasan."
      ],
      "metadata": {
        "id": "UcjWiYP1aiki"
      }
    },
    {
      "cell_type": "code",
      "source": [
        "#mengetahui jumlah missing value di seluruh dataset\n",
        "data.isnull().sum().sum()"
      ],
      "metadata": {
        "colab": {
          "base_uri": "https://localhost:8080/"
        },
        "id": "V7p6-A1OakH7",
        "outputId": "139d9c13-db06-4195-f613-ccd26683562f"
      },
      "execution_count": 11,
      "outputs": [
        {
          "output_type": "execute_result",
          "data": {
            "text/plain": [
              "100"
            ]
          },
          "metadata": {},
          "execution_count": 11
        }
      ]
    },
    {
      "cell_type": "markdown",
      "source": [
        "Sehingga terdapat 100 missing values pada data tersebut."
      ],
      "metadata": {
        "id": "mQ9By-yqama-"
      }
    },
    {
      "cell_type": "markdown",
      "source": [
        "#2. B"
      ],
      "metadata": {
        "id": "hwm-LS2Sao3o"
      }
    },
    {
      "cell_type": "markdown",
      "source": [
        "**Jelaskan bagaimana keberadaan missing values dapat memengaruhi analisis data.**"
      ],
      "metadata": {
        "id": "lC2vQYHJardf"
      }
    },
    {
      "cell_type": "markdown",
      "source": [
        "Keberadaan Missing Values dapat mempengaruhi hasil analisis statistik pada data sehingga dapat mengurangi tingkat keakuratan data. Missing Values yang tidak diatasi dapat menyebabkan kesalahan hasil analisis dan kesimpulan yang tidak sesuai dengan yang diharapkan. Missing Values juga dapat mengubah distribusi data. Jika missing values berasal dari kategori dengan karakteristik tertentu maka dapat menyebabkan hasil yang tidak akurat dan tidak dapat digeneralisasi Selain itu, terdapat beberapa algoritma mechine learning yang tidak memperbolehkan adanya missing value dalam sebuah data. Sehingga perlu dilakukan imputasi atau penghapusan data yang hilang sebelum digunakan dalam pemodelan.\n",
        "\n",
        "Imputasi adalah metode mengganti nilai yang hilang dengan nilai lain, seperti mean (rata-rata), median, modus, interpolasi, atau menggunakan model prediktif untuk memperkirakan missing values. Imputasi dipilih jika missing values cukup banyak dan tidak boleh dihapus karena masih memiliki informasi penting. Misalnya, jika harga produk hilang, menggantinya dengan median lebih baik daripada menghapus seluruh data produk tersebut.\n",
        "\n",
        "Penghapusan data dilakukan jika jumlah missing values sangat sedikit atau jika data yang hilang tidak terlalu berdampak pada analisis keseluruhan. Misalnya, jika suatu baris memiliki banyak kolom kosong, menghapusnya bisa menjadi pilihan yang lebih baik daripada melakukan imputasi."
      ],
      "metadata": {
        "id": "ZMFvStsVauxf"
      }
    },
    {
      "cell_type": "markdown",
      "source": [
        "#2. C"
      ],
      "metadata": {
        "id": "xuPJV7v7azNA"
      }
    },
    {
      "cell_type": "markdown",
      "source": [
        "**Tentukan metode yang paling sesuai untuk menangani missing values di setiap kolom. Berikan alasan pemilihan metode tersebut.**"
      ],
      "metadata": {
        "id": "QgEpq8Voa1kh"
      }
    },
    {
      "cell_type": "markdown",
      "source": [
        "1. Kolom harga menggunakan median karena data harga produk elektronik tersebut tidak berdistribusi normal, dan terdapat beberapa harga produk elektronik yang sangat tinggi dibandingkan dengan produk lainnya.\n",
        "2. Kolom rating menggunakan mean karena ratting memiliki rentang yang sama, misalnya 1 sampai 5 sehingga tidak ada skewed yang dapat mempengaruhi hasil.\n",
        "3. Kolom jumlah_ulasan menggunakan median karena beberapa produk memiliki jumlah ulasan yang tinggi sementara sebagian produk memiliki sedikit ulasan, sehingga menyebabkan data jumlah ulasan tidak berdistribusi normal. Median lebih stabil dibandingkan mean karena tidak terpengaruh oleh nilai ekstrem atau distribusi yang tidak simetris."
      ],
      "metadata": {
        "id": "KWOMNlbwa4zz"
      }
    },
    {
      "cell_type": "markdown",
      "source": [
        "#2. D"
      ],
      "metadata": {
        "id": "ocMwcdX2bArD"
      }
    },
    {
      "cell_type": "markdown",
      "source": [
        "**Tangani missing values dengan metode yang sesuai**"
      ],
      "metadata": {
        "id": "KJW75AHvbDX-"
      }
    },
    {
      "cell_type": "markdown",
      "source": [
        "**Menangani missing values pada kolom harga dengan metode imputasi menggunakan median**"
      ],
      "metadata": {
        "id": "XdcIRwYwbFLB"
      }
    },
    {
      "cell_type": "code",
      "source": [
        "#melihat isi dalam kolom harga\n",
        "data['harga'].unique()"
      ],
      "metadata": {
        "colab": {
          "base_uri": "https://localhost:8080/"
        },
        "id": "fDyl-04cayFS",
        "outputId": "f0c3c6a8-4af0-44ce-f638-438f8979db15"
      },
      "execution_count": 12,
      "outputs": [
        {
          "output_type": "execute_result",
          "data": {
            "text/plain": [
              "array([ 7.460e+02,  2.410e+02,  8.100e+02,  3.030e+02,  2.520e+02,\n",
              "        3.350e+02,  8.900e+02,  4.910e+02,  6.050e+02,  4.630e+02,\n",
              "        4.810e+02,  3.980e+02,  5.100e+02,  5.980e+02,  8.350e+02,\n",
              "        1.250e+02,  8.220e+02,  4.260e+02,  3.900e+02,  7.080e+02,\n",
              "        5.450e+02,        nan,  5.720e+02,  7.280e+02,  6.710e+02,\n",
              "        3.740e+02,  2.310e+02,  4.340e+02,  1.150e+03,  3.310e+02,\n",
              "        5.780e+02,  4.750e+02,  4.590e+02,  9.040e+02,  4.970e+02,\n",
              "        5.400e+02,  3.390e+02,  2.110e+02,  8.620e+02,  5.800e+02,\n",
              "        5.180e+02,  5.160e+02,  4.480e+02,  7.360e+02,  2.280e+02,\n",
              "        1.830e+02,  5.150e+02,  7.120e+02,  5.470e+02,  4.360e+02,\n",
              "        5.910e+02,  5.370e+02,  6.650e+02,  7.650e+02,  3.090e+02,\n",
              "        4.290e+02,  2.960e+02,  6.660e+02,  3.550e+02,  1.240e+02,\n",
              "        3.850e+02,  2.010e+02,  8.180e+02,  5.940e+02,  6.290e+02,\n",
              "        6.070e+02,  6.680e+02,  7.260e+02,  3.920e+02,  2.160e+02,\n",
              "        3.300e+02,  4.900e+02, -1.200e+01,  1.200e+02,  6.190e+02,\n",
              "        4.660e+02,  5.570e+02,  4.050e+02,  5.430e+02,  3.880e+02,\n",
              "        3.200e+02,  8.050e+02,  5.730e+02,  5.410e+02,  3.240e+02,\n",
              "        4.530e+02,  3.020e+02,  4.010e+02,  2.580e+02,  8.170e+02,\n",
              "        3.480e+02,  2.340e+02,  3.450e+02,  3.700e+02,  1.790e+02,\n",
              "        1.970e+02,  6.350e+02,  6.560e+02,  5.300e+02,  2.530e+02,\n",
              "        7.790e+02,  4.100e+02,  8.341e+03,  7.740e+02,  3.640e+02,\n",
              "        7.300e+02,  4.240e+02,  3.610e+02,  5.210e+02,  5.680e+02,\n",
              "        8.820e+02,  5.630e+02,  5.380e+02,  8.190e+02,  6.200e+02,\n",
              "        7.710e+02,  3.520e+02,  3.120e+02,  5.660e+02, -1.950e+02,\n",
              "        4.460e+02,  3.960e+02,  6.780e+02,  4.220e+02,  7.290e+02,\n",
              "        5.460e+02,  6.600e+02,  5.480e+02,  6.640e+02,  9.100e+02,\n",
              "        5.500e+02,  4.090e+02,  9.400e+01,  4.470e+02,  6.060e+02,\n",
              "        8.810e+02,  4.610e+02,  7.830e+02,  5.920e+02,  6.170e+02,\n",
              "        1.950e+02,  7.410e+02,  5.750e+02,  2.250e+02,  5.970e+02,\n",
              "        8.700e+01,  9.680e+02,  2.790e+02,  3.370e+02,  6.120e+02,\n",
              "        3.170e+02,  6.990e+02,  4.520e+02,  5.930e+02,  5.030e+02,\n",
              "        2.260e+02,  6.000e+02,  3.990e+02,  7.090e+02,  4.840e+02,\n",
              "        8.360e+02,  9.760e+02,  6.570e+02,  4.420e+02,  4.250e+02,\n",
              "        3.360e+02,  4.450e+02,  8.920e+02,  4.600e+02,  2.540e+02,\n",
              "        5.080e+02,  5.070e+02,  6.590e+02,  5.130e+02,  6.530e+02,\n",
              "        3.430e+02,  8.560e+02,  6.300e+02,  2.660e+02,  1.680e+02,\n",
              "        5.580e+02,  4.020e+02,  5.510e+02,  1.870e+02,  4.300e+02,\n",
              "        7.700e+01,  7.680e+02,  2.380e+02,  3.750e+02,  8.290e+02,\n",
              "        7.950e+02,  8.970e+02,  2.720e+02,  7.123e+03,  1.720e+02,\n",
              "        5.990e+02,  4.580e+02,  4.400e+01,  5.290e+02,  8.590e+02,\n",
              "        4.850e+02,  6.130e+02,  1.500e+02,  1.023e+03,  4.130e+02,\n",
              "        6.280e+02,  8.690e+02,  5.530e+02,  4.570e+02,  5.270e+02,\n",
              "        6.520e+02,  5.020e+02,  6.760e+02,  1.630e+02,  8.990e+02,\n",
              "        8.960e+02,  6.250e+02,  2.970e+02,  9.770e+02,  3.790e+02,\n",
              "        5.900e+02,  6.360e+02,  4.710e+02,  6.330e+02,  4.620e+02,\n",
              "        6.150e+02,  6.270e+02,  4.110e+02,  6.210e+02,  8.410e+02,\n",
              "        8.540e+02,  4.200e+02,  6.610e+02,  8.020e+02,  1.270e+02,\n",
              "        6.370e+02,  3.200e+01,  4.200e+01,  7.860e+02,  7.420e+02,\n",
              "        3.230e+02,  6.020e+02,  5.950e+02,  6.940e+02,  6.440e+02,\n",
              "        4.140e+02,  4.890e+02,  8.680e+02,  4.180e+02,  5.520e+02,\n",
              "        5.100e+01,  9.510e+02,  3.130e+02,  1.134e+03,  5.360e+02,\n",
              "       -1.400e+01,  7.660e+02,  6.430e+02,  8.130e+02,  2.640e+02,\n",
              "        3.630e+02,  1.640e+02,  3.780e+02,  5.420e+02,  6.730e+02,\n",
              "        7.600e+02,  4.000e+02,  5.830e+02,  2.800e+02,  6.230e+02,\n",
              "        3.730e+02,  3.160e+02,  5.490e+02,  7.100e+02,  4.500e+02,\n",
              "        4.860e+02,  4.920e+02,  5.840e+03,  2.610e+02,  5.550e+02,\n",
              "        3.560e+02,  6.810e+02,  3.650e+02,  3.680e+02,  5.890e+02,\n",
              "        9.550e+02,  1.740e+02,  7.250e+02,  3.840e+02,  3.250e+02,\n",
              "        1.770e+02,  7.690e+02,  2.130e+02,  7.930e+02,  5.600e+02,\n",
              "        7.330e+02,  7.070e+02,  2.990e+02,  9.850e+02,  8.890e+02,\n",
              "        3.870e+02, -2.130e+02,  4.280e+02,  3.860e+02,  4.550e+02,\n",
              "        3.340e+02,  6.840e+02,  5.120e+02,  6.900e+02,  7.440e+02,\n",
              "        6.500e+01,  1.014e+03,  6.620e+02,  1.230e+02,  5.280e+02,\n",
              "        6.950e+02,  6.720e+02,  5.598e+03,  1.610e+02,  3.190e+02,\n",
              "        7.730e+02,  6.910e+02,  6.490e+02,  7.010e+02,  4.800e+02,\n",
              "        4.040e+02,  7.030e+02,  7.500e+02,  5.330e+02,  3.040e+02,\n",
              "        4.960e+02,  4.870e+02,  8.400e+02,  5.170e+02,  3.410e+02,\n",
              "        8.240e+02,  2.910e+02,  5.590e+02,  6.240e+02,  5.250e+02,\n",
              "        4.990e+02, -1.500e+01,  5.620e+02,  4.150e+02,  6.420e+02,\n",
              "        2.330e+02,  4.560e+02,  4.350e+02,  4.160e+02,  7.900e+02,\n",
              "        5.740e+02,  4.760e+02,  4.540e+02,  5.860e+02,  6.080e+02,\n",
              "        5.260e+02,  6.030e+02,  5.224e+03,  2.760e+02,  1.560e+02,\n",
              "        5.560e+02,  4.430e+02,  2.900e+02,  7.600e+01,  1.430e+02,\n",
              "        8.200e+02,  3.400e+02,  4.380e+02,  6.320e+02,  7.020e+02,\n",
              "        3.260e+02,  7.560e+02,  6.670e+02,  7.050e+02,  4.230e+02,\n",
              "        5.200e+02,  3.930e+02,  1.090e+02,  4.440e+02,  5.710e+02,\n",
              "        3.820e+02,  4.690e+02, -4.200e+01,  7.590e+02,  6.800e+02,\n",
              "        9.700e+01, -5.000e+00,  7.880e+02,  1.190e+02,  5.350e+02,\n",
              "        7.770e+02, -2.900e+01,  6.450e+02,  4.650e+02,  4.950e+02])"
            ]
          },
          "metadata": {},
          "execution_count": 12
        }
      ]
    },
    {
      "cell_type": "code",
      "source": [
        "#jumlah missing value\n",
        "np.sum(data['harga'].isnull())"
      ],
      "metadata": {
        "colab": {
          "base_uri": "https://localhost:8080/"
        },
        "id": "QhmpDacIbLPc",
        "outputId": "7a60ace5-4a52-4301-c62f-8d370b76218f"
      },
      "execution_count": 13,
      "outputs": [
        {
          "output_type": "execute_result",
          "data": {
            "text/plain": [
              "30"
            ]
          },
          "metadata": {},
          "execution_count": 13
        }
      ]
    },
    {
      "cell_type": "markdown",
      "source": [
        "Berdasarkan output tersebut, dapat dilihat bahwa kolom tersebut mengandung Missing Values sebanyak 30. Pada kasus ini, masing-masing Missing Values tersebut akan diganti dengan median dari harga keseluruhan produk."
      ],
      "metadata": {
        "id": "WmdY9ogvbO7c"
      }
    },
    {
      "cell_type": "code",
      "source": [
        "#mengisi missing value\n",
        "data['harga']=data['harga'].fillna(data['harga'].median())"
      ],
      "metadata": {
        "id": "6vxTWS-MbQzO"
      },
      "execution_count": 14,
      "outputs": []
    },
    {
      "cell_type": "code",
      "source": [
        "#jumlah missing value\n",
        "np.sum(data['harga'].isnull())"
      ],
      "metadata": {
        "colab": {
          "base_uri": "https://localhost:8080/"
        },
        "id": "aTPJTa5qbS_E",
        "outputId": "0e102190-19e2-45c8-96f0-d0520ce258f3"
      },
      "execution_count": 15,
      "outputs": [
        {
          "output_type": "execute_result",
          "data": {
            "text/plain": [
              "0"
            ]
          },
          "metadata": {},
          "execution_count": 15
        }
      ]
    },
    {
      "cell_type": "markdown",
      "source": [
        "Setelah Missing Values diganti dengan median keseluruhan harga produk, diperoleh Missing Value pada kolom harga menjadi 0 atau sudah tidak ada Missing Value pada kolom harga."
      ],
      "metadata": {
        "id": "0suCzyTTbW-u"
      }
    },
    {
      "cell_type": "code",
      "source": [
        "#melihat isi dalam kolom\n",
        "data['harga'].unique()"
      ],
      "metadata": {
        "colab": {
          "base_uri": "https://localhost:8080/"
        },
        "id": "PttjhKoTcMBe",
        "outputId": "1da80de1-de80-4e98-a6a4-4c0952264bd1"
      },
      "execution_count": 22,
      "outputs": [
        {
          "output_type": "execute_result",
          "data": {
            "text/plain": [
              "array([ 7.460e+02,  2.410e+02,  8.100e+02,  3.030e+02,  2.520e+02,\n",
              "        3.350e+02,  8.900e+02,  4.910e+02,  6.050e+02,  4.630e+02,\n",
              "        4.810e+02,  3.980e+02,  5.100e+02,  5.980e+02,  8.350e+02,\n",
              "        1.250e+02,  8.220e+02,  4.260e+02,  3.900e+02,  7.080e+02,\n",
              "        5.450e+02,  5.160e+02,  5.720e+02,  7.280e+02,  6.710e+02,\n",
              "        3.740e+02,  2.310e+02,  4.340e+02,  1.150e+03,  3.310e+02,\n",
              "        5.780e+02,  4.750e+02,  4.590e+02,  9.040e+02,  4.970e+02,\n",
              "        5.400e+02,  3.390e+02,  2.110e+02,  8.620e+02,  5.800e+02,\n",
              "        5.180e+02,  4.480e+02,  7.360e+02,  2.280e+02,  1.830e+02,\n",
              "        5.150e+02,  7.120e+02,  5.470e+02,  4.360e+02,  5.910e+02,\n",
              "        5.370e+02,  6.650e+02,  7.650e+02,  3.090e+02,  4.290e+02,\n",
              "        2.960e+02,  6.660e+02,  3.550e+02,  1.240e+02,  3.850e+02,\n",
              "        2.010e+02,  8.180e+02,  5.940e+02,  6.290e+02,  6.070e+02,\n",
              "        6.680e+02,  7.260e+02,  3.920e+02,  2.160e+02,  3.300e+02,\n",
              "        4.900e+02, -1.200e+01,  1.200e+02,  6.190e+02,  4.660e+02,\n",
              "        5.570e+02,  4.050e+02,  5.430e+02,  3.880e+02,  3.200e+02,\n",
              "        8.050e+02,  5.730e+02,  5.410e+02,  3.240e+02,  4.530e+02,\n",
              "        3.020e+02,  4.010e+02,  2.580e+02,  8.170e+02,  3.480e+02,\n",
              "        2.340e+02,  3.450e+02,  3.700e+02,  1.790e+02,  1.970e+02,\n",
              "        6.350e+02,  6.560e+02,  5.300e+02,  2.530e+02,  7.790e+02,\n",
              "        4.100e+02,  8.341e+03,  7.740e+02,  3.640e+02,  7.300e+02,\n",
              "        4.240e+02,  3.610e+02,  5.210e+02,  5.680e+02,  8.820e+02,\n",
              "        5.630e+02,  5.380e+02,  8.190e+02,  6.200e+02,  7.710e+02,\n",
              "        3.520e+02,  3.120e+02,  5.660e+02, -1.950e+02,  4.460e+02,\n",
              "        3.960e+02,  6.780e+02,  4.220e+02,  7.290e+02,  5.460e+02,\n",
              "        6.600e+02,  5.480e+02,  6.640e+02,  9.100e+02,  5.500e+02,\n",
              "        4.090e+02,  9.400e+01,  4.470e+02,  6.060e+02,  8.810e+02,\n",
              "        4.610e+02,  7.830e+02,  5.920e+02,  6.170e+02,  1.950e+02,\n",
              "        7.410e+02,  5.750e+02,  2.250e+02,  5.970e+02,  8.700e+01,\n",
              "        9.680e+02,  2.790e+02,  3.370e+02,  6.120e+02,  3.170e+02,\n",
              "        6.990e+02,  4.520e+02,  5.930e+02,  5.030e+02,  2.260e+02,\n",
              "        6.000e+02,  3.990e+02,  7.090e+02,  4.840e+02,  8.360e+02,\n",
              "        9.760e+02,  6.570e+02,  4.420e+02,  4.250e+02,  3.360e+02,\n",
              "        4.450e+02,  8.920e+02,  4.600e+02,  2.540e+02,  5.080e+02,\n",
              "        5.070e+02,  6.590e+02,  5.130e+02,  6.530e+02,  3.430e+02,\n",
              "        8.560e+02,  6.300e+02,  2.660e+02,  1.680e+02,  5.580e+02,\n",
              "        4.020e+02,  5.510e+02,  1.870e+02,  4.300e+02,  7.700e+01,\n",
              "        7.680e+02,  2.380e+02,  3.750e+02,  8.290e+02,  7.950e+02,\n",
              "        8.970e+02,  2.720e+02,  7.123e+03,  1.720e+02,  5.990e+02,\n",
              "        4.580e+02,  4.400e+01,  5.290e+02,  8.590e+02,  4.850e+02,\n",
              "        6.130e+02,  1.500e+02,  1.023e+03,  4.130e+02,  6.280e+02,\n",
              "        8.690e+02,  5.530e+02,  4.570e+02,  5.270e+02,  6.520e+02,\n",
              "        5.020e+02,  6.760e+02,  1.630e+02,  8.990e+02,  8.960e+02,\n",
              "        6.250e+02,  2.970e+02,  9.770e+02,  3.790e+02,  5.900e+02,\n",
              "        6.360e+02,  4.710e+02,  6.330e+02,  4.620e+02,  6.150e+02,\n",
              "        6.270e+02,  4.110e+02,  6.210e+02,  8.410e+02,  8.540e+02,\n",
              "        4.200e+02,  6.610e+02,  8.020e+02,  1.270e+02,  6.370e+02,\n",
              "        3.200e+01,  4.200e+01,  7.860e+02,  7.420e+02,  3.230e+02,\n",
              "        6.020e+02,  5.950e+02,  6.940e+02,  6.440e+02,  4.140e+02,\n",
              "        4.890e+02,  8.680e+02,  4.180e+02,  5.520e+02,  5.100e+01,\n",
              "        9.510e+02,  3.130e+02,  1.134e+03,  5.360e+02, -1.400e+01,\n",
              "        7.660e+02,  6.430e+02,  8.130e+02,  2.640e+02,  3.630e+02,\n",
              "        1.640e+02,  3.780e+02,  5.420e+02,  6.730e+02,  7.600e+02,\n",
              "        4.000e+02,  5.830e+02,  2.800e+02,  6.230e+02,  3.730e+02,\n",
              "        3.160e+02,  5.490e+02,  7.100e+02,  4.500e+02,  4.860e+02,\n",
              "        4.920e+02,  5.840e+03,  2.610e+02,  5.550e+02,  3.560e+02,\n",
              "        6.810e+02,  3.650e+02,  3.680e+02,  5.890e+02,  9.550e+02,\n",
              "        1.740e+02,  7.250e+02,  3.840e+02,  3.250e+02,  1.770e+02,\n",
              "        7.690e+02,  2.130e+02,  7.930e+02,  5.600e+02,  7.330e+02,\n",
              "        7.070e+02,  2.990e+02,  9.850e+02,  8.890e+02,  3.870e+02,\n",
              "       -2.130e+02,  4.280e+02,  3.860e+02,  4.550e+02,  3.340e+02,\n",
              "        6.840e+02,  5.120e+02,  6.900e+02,  7.440e+02,  6.500e+01,\n",
              "        1.014e+03,  6.620e+02,  1.230e+02,  5.280e+02,  6.950e+02,\n",
              "        6.720e+02,  5.598e+03,  1.610e+02,  3.190e+02,  7.730e+02,\n",
              "        6.910e+02,  6.490e+02,  7.010e+02,  4.800e+02,  4.040e+02,\n",
              "        7.030e+02,  7.500e+02,  5.330e+02,  3.040e+02,  4.960e+02,\n",
              "        4.870e+02,  8.400e+02,  5.170e+02,  3.410e+02,  8.240e+02,\n",
              "        2.910e+02,  5.590e+02,  6.240e+02,  5.250e+02,  4.990e+02,\n",
              "       -1.500e+01,  5.620e+02,  4.150e+02,  6.420e+02,  2.330e+02,\n",
              "        4.560e+02,  4.350e+02,  4.160e+02,  7.900e+02,  5.740e+02,\n",
              "        4.760e+02,  4.540e+02,  5.860e+02,  6.080e+02,  5.260e+02,\n",
              "        6.030e+02,  5.224e+03,  2.760e+02,  1.560e+02,  5.560e+02,\n",
              "        4.430e+02,  2.900e+02,  7.600e+01,  1.430e+02,  8.200e+02,\n",
              "        3.400e+02,  4.380e+02,  6.320e+02,  7.020e+02,  3.260e+02,\n",
              "        7.560e+02,  6.670e+02,  7.050e+02,  4.230e+02,  5.200e+02,\n",
              "        3.930e+02,  1.090e+02,  4.440e+02,  5.710e+02,  3.820e+02,\n",
              "        4.690e+02, -4.200e+01,  7.590e+02,  6.800e+02,  9.700e+01,\n",
              "       -5.000e+00,  7.880e+02,  1.190e+02,  5.350e+02,  7.770e+02,\n",
              "       -2.900e+01,  6.450e+02,  4.650e+02,  4.950e+02])"
            ]
          },
          "metadata": {},
          "execution_count": 22
        }
      ]
    },
    {
      "cell_type": "markdown",
      "source": [
        "**Menangani missing values pada kolom rating dengan metode imputasi menggunakan mean**"
      ],
      "metadata": {
        "id": "XczCbI4Mbeo1"
      }
    },
    {
      "cell_type": "code",
      "source": [
        "#melihat isi dalam kolom\n",
        "data['rating'].unique()"
      ],
      "metadata": {
        "colab": {
          "base_uri": "https://localhost:8080/"
        },
        "id": "Jl7JRaLRbYlS",
        "outputId": "9c3e9d09-d8b1-4dce-e954-61a15ea719ee"
      },
      "execution_count": 16,
      "outputs": [
        {
          "output_type": "execute_result",
          "data": {
            "text/plain": [
              "array([4.2, 3.5, 3.8, 3.2, 3.7, 4. , 4.5, 3. , 3.9, 3.6, 4.7, 4.4, nan,\n",
              "       3.1, 4.9, 4.6, 5. , 4.8, 4.3, 3.4, 4.1, 3.3])"
            ]
          },
          "metadata": {},
          "execution_count": 16
        }
      ]
    },
    {
      "cell_type": "code",
      "source": [
        "#jumlah missing value\n",
        "np.sum(data['rating'].isnull())"
      ],
      "metadata": {
        "colab": {
          "base_uri": "https://localhost:8080/"
        },
        "id": "5hBLWckGbmPc",
        "outputId": "8fc3dfa7-f9c5-4665-c1ce-7507de3114e9"
      },
      "execution_count": 17,
      "outputs": [
        {
          "output_type": "execute_result",
          "data": {
            "text/plain": [
              "50"
            ]
          },
          "metadata": {},
          "execution_count": 17
        }
      ]
    },
    {
      "cell_type": "markdown",
      "source": [
        "Berdasarkan output tersebut, dapat dilihat bahwa kolom rating tersebut mengandung Missing Values sebanyak 50. Pada kasus ini, masing-masing Missing Values tersebut akan diganti dengan mean dari rating keseluruhan produk."
      ],
      "metadata": {
        "id": "sWabxaEJbtaA"
      }
    },
    {
      "cell_type": "code",
      "source": [
        "#mengisi missing value\n",
        "data['rating']=data['rating'].fillna(data['rating'].mean())"
      ],
      "metadata": {
        "id": "IY_ydyu4buen"
      },
      "execution_count": 18,
      "outputs": []
    },
    {
      "cell_type": "code",
      "source": [
        "#jumlah missing value\n",
        "np.sum(data['rating'].isnull())"
      ],
      "metadata": {
        "colab": {
          "base_uri": "https://localhost:8080/"
        },
        "id": "vJYpT20Lb2pZ",
        "outputId": "c10cb6d6-b323-4b6f-d2e3-d09bd975f2fb"
      },
      "execution_count": 19,
      "outputs": [
        {
          "output_type": "execute_result",
          "data": {
            "text/plain": [
              "0"
            ]
          },
          "metadata": {},
          "execution_count": 19
        }
      ]
    },
    {
      "cell_type": "markdown",
      "source": [
        "Setelah Missing Values diganti dengan mean keseluruhan rating produk, diperoleh Missing Value pada kolom rating menjadi 0 atau sudah tidak ada Missing Value pada kolom rating."
      ],
      "metadata": {
        "id": "3EFufKbCb5F-"
      }
    },
    {
      "cell_type": "code",
      "source": [
        "#melihat isi dalam kolom\n",
        "data['rating'].unique()"
      ],
      "metadata": {
        "colab": {
          "base_uri": "https://localhost:8080/"
        },
        "id": "g1xuyS5cb9Ry",
        "outputId": "c5b6075a-c378-4150-f43a-86d964c91387"
      },
      "execution_count": 20,
      "outputs": [
        {
          "output_type": "execute_result",
          "data": {
            "text/plain": [
              "array([4.2   , 3.5   , 3.8   , 3.2   , 3.7   , 4.    , 4.5   , 3.    ,\n",
              "       3.9   , 3.6   , 4.7   , 4.4   , 4.0056, 3.1   , 4.9   , 4.6   ,\n",
              "       5.    , 4.8   , 4.3   , 3.4   , 4.1   , 3.3   ])"
            ]
          },
          "metadata": {},
          "execution_count": 20
        }
      ]
    },
    {
      "cell_type": "markdown",
      "source": [
        "**Menangani missing values pada kolom jumlah_ulasan dengan metode imputasi menggunakan median**"
      ],
      "metadata": {
        "id": "srH7Jx6nb-sM"
      }
    },
    {
      "cell_type": "code",
      "source": [
        "#melihat isi dalam kolom\n",
        "data['jumlah_ulasan'].unique()"
      ],
      "metadata": {
        "colab": {
          "base_uri": "https://localhost:8080/"
        },
        "id": "brToDnATcD9t",
        "outputId": "9989f1b2-befb-4761-cb28-feb40c4c7871"
      },
      "execution_count": 21,
      "outputs": [
        {
          "output_type": "execute_result",
          "data": {
            "text/plain": [
              "array([273., 239., 209.,  59.,  76., 309., 390.,  67., 268.,  nan, 335.,\n",
              "       139., 224., 181., 267., 111., 218., 300., 363., 480., 295., 125.,\n",
              "       159., 451.,  45., 462., 342., 486., 296., 312., 320., 217., 115.,\n",
              "       455., 167., 130.,  64., 409.,  21., 154., 405., 145., 477.,  12.,\n",
              "       153.,  39., 246., 288., 357., 113., 127.,  14., 257., 373., 330.,\n",
              "       158.,  93., 463., 475., 465., 240., 297., 170., 281., 469.,  47.,\n",
              "       235., 151., 301., 490., 160., 123.,  75., 370., 350., 484., 258.,\n",
              "       466., 458., 340., 332., 189., 199., 416., 163., 205., 271., 428.,\n",
              "       415., 436., 152., 351., 110., 253., 499., 248.,  58.,  51., 175.,\n",
              "        91., 438., 225., 471., 143., 345.,  16., 445.,  23.,  82., 408.,\n",
              "       414., 172., 356., 215., 285., 265., 275.,  34., 459., 290., 262.,\n",
              "       319., 298., 173., 104., 119., 247., 396., 492., 434., 399., 150.,\n",
              "       126., 491., 401., 461.,  88.,  77., 182., 453., 137., 105., 101.,\n",
              "        40., 343.,  29., 155., 325., 456., 169., 358.,  52., 263.,  69.,\n",
              "       476., 427., 354., 391., 276., 187., 424.,  65., 472.,  92., 402.,\n",
              "       108., 338., 165., 380., 272., 261., 106., 269., 112.,  49., 282.,\n",
              "       368., 389., 317., 230., 429., 133., 431.,  72., 494., 200.,  71.,\n",
              "       164., 479., 464., 238.,  95., 142., 192., 395., 228., 255., 147.,\n",
              "       323., 385., 432., 398.,  74.,  22., 222., 483., 190., 347., 474.,\n",
              "       197., 404., 291.,  43.,  61., 121., 241., 236., 242., 422.,  30.,\n",
              "       406., 122., 114., 201.,  26., 129., 138.,  57.,  38.,  19., 286.,\n",
              "       293., 212., 256., 299., 452., 223., 442., 410., 352., 353., 425.,\n",
              "       437.,  96.,  17., 394., 118., 444., 417., 161., 157., 375., 237.,\n",
              "       148., 220., 400.,  37.,  60., 270., 359., 361., 329., 120., 489.,\n",
              "       377., 229., 346., 232., 369., 418., 443., 460.,  87., 178., 226.,\n",
              "       387., 128., 264., 379., 149., 497., 383., 278., 360.,  20., 280.,\n",
              "       433., 411., 162., 324., 482., 287., 423., 183., 131.,  41., 231.,\n",
              "        48., 277., 440.,  27., 135., 311., 144., 245., 233., 244.,  31.,\n",
              "       294., 292.,  97.,  53., 470., 180., 430., 198., 362., 193.,  28.,\n",
              "        32., 304., 117., 376., 371., 195.,  81., 397., 393.])"
            ]
          },
          "metadata": {},
          "execution_count": 21
        }
      ]
    },
    {
      "cell_type": "code",
      "source": [
        "#jumlah missing value\n",
        "np.sum(data['jumlah_ulasan'].isnull())"
      ],
      "metadata": {
        "colab": {
          "base_uri": "https://localhost:8080/"
        },
        "id": "ZlNwZE_XcU8O",
        "outputId": "c402dd3e-8633-4764-c80a-98fbef410e1e"
      },
      "execution_count": 23,
      "outputs": [
        {
          "output_type": "execute_result",
          "data": {
            "text/plain": [
              "20"
            ]
          },
          "metadata": {},
          "execution_count": 23
        }
      ]
    },
    {
      "cell_type": "markdown",
      "source": [
        "Berdasarkan output tersebut, dapat dilihat bahwa kolom jumlah_ulasan tersebut mengandung Missing Values sebanyak 20. Pada kasus ini, masing-masing Missing Values tersebut akan diganti dengan median dari jumlah_ulasan keseluruhan produk."
      ],
      "metadata": {
        "id": "wnjLFitOcaYK"
      }
    },
    {
      "cell_type": "code",
      "source": [
        "#mengisi missing value\n",
        "data['jumlah_ulasan']=data['jumlah_ulasan'].fillna(data['jumlah_ulasan'].mean())"
      ],
      "metadata": {
        "id": "lNIJk8tLcXDV"
      },
      "execution_count": 24,
      "outputs": []
    },
    {
      "cell_type": "code",
      "source": [
        "#jumlah missing value\n",
        "np.sum(data['rating'].isnull())"
      ],
      "metadata": {
        "colab": {
          "base_uri": "https://localhost:8080/"
        },
        "id": "QaEb-n9WciAJ",
        "outputId": "c7cdeb44-2336-4265-cea4-1e6b7653ef45"
      },
      "execution_count": 25,
      "outputs": [
        {
          "output_type": "execute_result",
          "data": {
            "text/plain": [
              "0"
            ]
          },
          "metadata": {},
          "execution_count": 25
        }
      ]
    },
    {
      "cell_type": "markdown",
      "source": [
        "Setelah Missing Values diganti dengan mean keseluruhan jumlah_ulasan produk, diperoleh Missing Value pada kolom jumlah_ulasan menjadi 0 atau sudah tidak ada Missing Value pada kolom jumlah_ulasan"
      ],
      "metadata": {
        "id": "QBSViProclmH"
      }
    },
    {
      "cell_type": "code",
      "source": [
        "#melihat isi dalam kolom\n",
        "data['jumlah_ulasan'].unique()"
      ],
      "metadata": {
        "colab": {
          "base_uri": "https://localhost:8080/"
        },
        "id": "6wJVOw8acjX2",
        "outputId": "e32880c3-ca9c-4e37-dbdd-bb25a5e2ad3b"
      },
      "execution_count": 26,
      "outputs": [
        {
          "output_type": "execute_result",
          "data": {
            "text/plain": [
              "array([273.        , 239.        , 209.        ,  59.        ,\n",
              "        76.        , 309.        , 390.        ,  67.        ,\n",
              "       268.        , 259.67169811, 335.        , 139.        ,\n",
              "       224.        , 181.        , 267.        , 111.        ,\n",
              "       218.        , 300.        , 363.        , 480.        ,\n",
              "       295.        , 125.        , 159.        , 451.        ,\n",
              "        45.        , 462.        , 342.        , 486.        ,\n",
              "       296.        , 312.        , 320.        , 217.        ,\n",
              "       115.        , 455.        , 167.        , 130.        ,\n",
              "        64.        , 409.        ,  21.        , 154.        ,\n",
              "       405.        , 145.        , 477.        ,  12.        ,\n",
              "       153.        ,  39.        , 246.        , 288.        ,\n",
              "       357.        , 113.        , 127.        ,  14.        ,\n",
              "       257.        , 373.        , 330.        , 158.        ,\n",
              "        93.        , 463.        , 475.        , 465.        ,\n",
              "       240.        , 297.        , 170.        , 281.        ,\n",
              "       469.        ,  47.        , 235.        , 151.        ,\n",
              "       301.        , 490.        , 160.        , 123.        ,\n",
              "        75.        , 370.        , 350.        , 484.        ,\n",
              "       258.        , 466.        , 458.        , 340.        ,\n",
              "       332.        , 189.        , 199.        , 416.        ,\n",
              "       163.        , 205.        , 271.        , 428.        ,\n",
              "       415.        , 436.        , 152.        , 351.        ,\n",
              "       110.        , 253.        , 499.        , 248.        ,\n",
              "        58.        ,  51.        , 175.        ,  91.        ,\n",
              "       438.        , 225.        , 471.        , 143.        ,\n",
              "       345.        ,  16.        , 445.        ,  23.        ,\n",
              "        82.        , 408.        , 414.        , 172.        ,\n",
              "       356.        , 215.        , 285.        , 265.        ,\n",
              "       275.        ,  34.        , 459.        , 290.        ,\n",
              "       262.        , 319.        , 298.        , 173.        ,\n",
              "       104.        , 119.        , 247.        , 396.        ,\n",
              "       492.        , 434.        , 399.        , 150.        ,\n",
              "       126.        , 491.        , 401.        , 461.        ,\n",
              "        88.        ,  77.        , 182.        , 453.        ,\n",
              "       137.        , 105.        , 101.        ,  40.        ,\n",
              "       343.        ,  29.        , 155.        , 325.        ,\n",
              "       456.        , 169.        , 358.        ,  52.        ,\n",
              "       263.        ,  69.        , 476.        , 427.        ,\n",
              "       354.        , 391.        , 276.        , 187.        ,\n",
              "       424.        ,  65.        , 472.        ,  92.        ,\n",
              "       402.        , 108.        , 338.        , 165.        ,\n",
              "       380.        , 272.        , 261.        , 106.        ,\n",
              "       269.        , 112.        ,  49.        , 282.        ,\n",
              "       368.        , 389.        , 317.        , 230.        ,\n",
              "       429.        , 133.        , 431.        ,  72.        ,\n",
              "       494.        , 200.        ,  71.        , 164.        ,\n",
              "       479.        , 464.        , 238.        ,  95.        ,\n",
              "       142.        , 192.        , 395.        , 228.        ,\n",
              "       255.        , 147.        , 323.        , 385.        ,\n",
              "       432.        , 398.        ,  74.        ,  22.        ,\n",
              "       222.        , 483.        , 190.        , 347.        ,\n",
              "       474.        , 197.        , 404.        , 291.        ,\n",
              "        43.        ,  61.        , 121.        , 241.        ,\n",
              "       236.        , 242.        , 422.        ,  30.        ,\n",
              "       406.        , 122.        , 114.        , 201.        ,\n",
              "        26.        , 129.        , 138.        ,  57.        ,\n",
              "        38.        ,  19.        , 286.        , 293.        ,\n",
              "       212.        , 256.        , 299.        , 452.        ,\n",
              "       223.        , 442.        , 410.        , 352.        ,\n",
              "       353.        , 425.        , 437.        ,  96.        ,\n",
              "        17.        , 394.        , 118.        , 444.        ,\n",
              "       417.        , 161.        , 157.        , 375.        ,\n",
              "       237.        , 148.        , 220.        , 400.        ,\n",
              "        37.        ,  60.        , 270.        , 359.        ,\n",
              "       361.        , 329.        , 120.        , 489.        ,\n",
              "       377.        , 229.        , 346.        , 232.        ,\n",
              "       369.        , 418.        , 443.        , 460.        ,\n",
              "        87.        , 178.        , 226.        , 387.        ,\n",
              "       128.        , 264.        , 379.        , 149.        ,\n",
              "       497.        , 383.        , 278.        , 360.        ,\n",
              "        20.        , 280.        , 433.        , 411.        ,\n",
              "       162.        , 324.        , 482.        , 287.        ,\n",
              "       423.        , 183.        , 131.        ,  41.        ,\n",
              "       231.        ,  48.        , 277.        , 440.        ,\n",
              "        27.        , 135.        , 311.        , 144.        ,\n",
              "       245.        , 233.        , 244.        ,  31.        ,\n",
              "       294.        , 292.        ,  97.        ,  53.        ,\n",
              "       470.        , 180.        , 430.        , 198.        ,\n",
              "       362.        , 193.        ,  28.        ,  32.        ,\n",
              "       304.        , 117.        , 376.        , 371.        ,\n",
              "       195.        ,  81.        , 397.        , 393.        ])"
            ]
          },
          "metadata": {},
          "execution_count": 26
        }
      ]
    },
    {
      "cell_type": "markdown",
      "source": [
        "**Mengecek jumlah missing value pada setiap kolom setelah dilakukan imputasi**"
      ],
      "metadata": {
        "id": "p3TMBR72crFl"
      }
    },
    {
      "cell_type": "code",
      "source": [
        "np.sum(data.isnull())"
      ],
      "metadata": {
        "colab": {
          "base_uri": "https://localhost:8080/",
          "height": 304
        },
        "id": "UINwFui4cwMW",
        "outputId": "7bb966ea-19f6-4c5c-ed6f-44dd903fdb47"
      },
      "execution_count": 27,
      "outputs": [
        {
          "output_type": "execute_result",
          "data": {
            "text/plain": [
              "produk_id        0\n",
              "nama_produk      0\n",
              "kategori         0\n",
              "harga            0\n",
              "rating           0\n",
              "jumlah_ulasan    0\n",
              "negara_asal      0\n",
              "dtype: int64"
            ],
            "text/html": [
              "<div>\n",
              "<style scoped>\n",
              "    .dataframe tbody tr th:only-of-type {\n",
              "        vertical-align: middle;\n",
              "    }\n",
              "\n",
              "    .dataframe tbody tr th {\n",
              "        vertical-align: top;\n",
              "    }\n",
              "\n",
              "    .dataframe thead th {\n",
              "        text-align: right;\n",
              "    }\n",
              "</style>\n",
              "<table border=\"1\" class=\"dataframe\">\n",
              "  <thead>\n",
              "    <tr style=\"text-align: right;\">\n",
              "      <th></th>\n",
              "      <th>0</th>\n",
              "    </tr>\n",
              "  </thead>\n",
              "  <tbody>\n",
              "    <tr>\n",
              "      <th>produk_id</th>\n",
              "      <td>0</td>\n",
              "    </tr>\n",
              "    <tr>\n",
              "      <th>nama_produk</th>\n",
              "      <td>0</td>\n",
              "    </tr>\n",
              "    <tr>\n",
              "      <th>kategori</th>\n",
              "      <td>0</td>\n",
              "    </tr>\n",
              "    <tr>\n",
              "      <th>harga</th>\n",
              "      <td>0</td>\n",
              "    </tr>\n",
              "    <tr>\n",
              "      <th>rating</th>\n",
              "      <td>0</td>\n",
              "    </tr>\n",
              "    <tr>\n",
              "      <th>jumlah_ulasan</th>\n",
              "      <td>0</td>\n",
              "    </tr>\n",
              "    <tr>\n",
              "      <th>negara_asal</th>\n",
              "      <td>0</td>\n",
              "    </tr>\n",
              "  </tbody>\n",
              "</table>\n",
              "</div><br><label><b>dtype:</b> int64</label>"
            ]
          },
          "metadata": {},
          "execution_count": 27
        }
      ]
    },
    {
      "cell_type": "code",
      "source": [
        "data.info()"
      ],
      "metadata": {
        "colab": {
          "base_uri": "https://localhost:8080/"
        },
        "id": "VsxXIkr2c1H2",
        "outputId": "3cf82cb8-f3bf-4fee-c895-e0a8cb1d4750"
      },
      "execution_count": 28,
      "outputs": [
        {
          "output_type": "stream",
          "name": "stdout",
          "text": [
            "<class 'pandas.core.frame.DataFrame'>\n",
            "RangeIndex: 550 entries, 0 to 549\n",
            "Data columns (total 7 columns):\n",
            " #   Column         Non-Null Count  Dtype  \n",
            "---  ------         --------------  -----  \n",
            " 0   produk_id      550 non-null    int64  \n",
            " 1   nama_produk    550 non-null    object \n",
            " 2   kategori       550 non-null    object \n",
            " 3   harga          550 non-null    float64\n",
            " 4   rating         550 non-null    float64\n",
            " 5   jumlah_ulasan  550 non-null    float64\n",
            " 6   negara_asal    550 non-null    object \n",
            "dtypes: float64(3), int64(1), object(3)\n",
            "memory usage: 30.2+ KB\n"
          ]
        }
      ]
    },
    {
      "cell_type": "markdown",
      "source": [
        "Diperoleh kolom harga produk, ratting dan jumlah_ulasan sudah tidak mengandung Missing Value, dan seluruh kolom pada data tersebut memiliki jumlah yang sama, yaitu 550 baris."
      ],
      "metadata": {
        "id": "hnlT4jzecywQ"
      }
    },
    {
      "cell_type": "markdown",
      "source": [
        "#3. A"
      ],
      "metadata": {
        "id": "AYwfq-ulc5Lr"
      }
    },
    {
      "cell_type": "markdown",
      "source": [
        "**Identifikasi outlier dalam database**"
      ],
      "metadata": {
        "id": "_lM2OK06c7P2"
      }
    },
    {
      "cell_type": "markdown",
      "source": [
        "Menggunakan Boxplot"
      ],
      "metadata": {
        "id": "ShcOk3XQc-SH"
      }
    },
    {
      "cell_type": "code",
      "source": [
        "import matplotlib.pyplot as plt\n",
        "import seaborn as sns\n",
        "\n",
        "# Kolom numerik yang ingin dicek outliernya\n",
        "num_cols = ['harga', 'rating', 'jumlah_ulasan']\n",
        "# Visualisasi Boxplot\n",
        "plt.figure(figsize=(15, 8))\n",
        "for i, col in enumerate(num_cols, 1):\n",
        "    plt.subplot(3, 4, i)\n",
        "    sns.boxplot(y=data[col])\n",
        "    plt.title(col)\n",
        "plt.tight_layout()\n",
        "plt.show()"
      ],
      "metadata": {
        "colab": {
          "base_uri": "https://localhost:8080/",
          "height": 300
        },
        "id": "fjpPDnBXdCMu",
        "outputId": "6084efd8-dd0e-4587-d6f0-9db09dafea69"
      },
      "execution_count": 29,
      "outputs": [
        {
          "output_type": "display_data",
          "data": {
            "text/plain": [
              "<Figure size 1500x800 with 3 Axes>"
            ],
            "image/png": "[encoded data removed]"
          },
          "metadata": {}
        }
      ]
    },
    {
      "cell_type": "markdown",
      "source": [
        "Berdasarkan Boxplot diperoleh:\n",
        "\n",
        "Pada kolom harga terdapat banyak titik di atas whisker, yang menunjukkan adanya harga yang sangat tinggi dibandingkan dengan nilai lainnya. Ini menandakan bahwa harga memiliki outlier.\n",
        "Pada kolom rating semua nilai berada dalam batas whisker, tanpa titik di luar rentang. Ini menunjukkan bahwa rating terdistribusi dengan baik dan tidak memiliki outlier.\n",
        "Pada kolom jumlah_ulasan tidak ada titik di luar whisker, sehingga jumlah ulasan tidak memiliki outlier yang signifikan."
      ],
      "metadata": {
        "id": "r-4FCIradGoy"
      }
    },
    {
      "cell_type": "markdown",
      "source": [
        "Menggunakan IQR"
      ],
      "metadata": {
        "id": "FWWdoFKwdI6Z"
      }
    },
    {
      "cell_type": "code",
      "source": [
        "def detect_outliers_iqr(data, column):\n",
        "    Q1 = data[column].quantile(0.25)  # Kuartil 1\n",
        "    Q3 = data[column].quantile(0.75)  # Kuartil 3\n",
        "    IQR = Q3 - Q1  # Rentang interkuartil\n",
        "    lower_bound = Q1 - 1.5 * IQR\n",
        "    upper_bound = Q3 + 1.5 * IQR\n",
        "    return data[(data[column] < lower_bound) | (data[column] > upper_bound)]\n",
        "# Cek jumlah outlier untuk setiap kolom numerik\n",
        "for col in num_cols:\n",
        "    outliers = detect_outliers_iqr(data, col)\n",
        "    print(f\"{col}: {len(outliers)} outliers\")"
      ],
      "metadata": {
        "colab": {
          "base_uri": "https://localhost:8080/"
        },
        "id": "e_qr3h9ZdIHS",
        "outputId": "210e98e4-9fc5-4d8a-d364-f34e8877d1b7"
      },
      "execution_count": 30,
      "outputs": [
        {
          "output_type": "stream",
          "name": "stdout",
          "text": [
            "harga: 14 outliers\n",
            "rating: 0 outliers\n",
            "jumlah_ulasan: 0 outliers\n"
          ]
        }
      ]
    },
    {
      "cell_type": "markdown",
      "source": [
        "Berdasarkan IQR diperoleh bahwa terdapat 14 outlier pada kolom harga, 0 outlier pada kolom rating dan jumlah_ulasan."
      ],
      "metadata": {
        "id": "wfzxa4kIdO_0"
      }
    },
    {
      "cell_type": "markdown",
      "source": [
        "#3. B"
      ],
      "metadata": {
        "id": "G4w3ezJcdQPf"
      }
    },
    {
      "cell_type": "markdown",
      "source": [
        "**Apa dampak dari keberadaan outlier terhadap analisis?**"
      ],
      "metadata": {
        "id": "M5mM5m4UdR7C"
      }
    },
    {
      "cell_type": "markdown",
      "source": [
        "1. Keberadaan outlier dapat menyebabkan hasil analisis statistik dan model prediksi menyimpang. Jika outlier tidak diidentifikasi dan diatasi, pola umum dalam data tersebut akan berubah dan menghasilkan kesimpulan yang tidak tepat.\n",
        "2. Outlier dapat memengaruhi distribusi data secara keseluruhan dan mengganggu asumsi dasar dalam metode analisis data. Dengan mendeteksi dan mengatasi outlier, data analyst akan menjaga konsistensi dan validitas dari hasil analisis.\n",
        "3. Outlier juga bisa menjadi indikator adanya kecurangan atau kesalahan dalam data."
      ],
      "metadata": {
        "id": "bJag30fZdXB0"
      }
    },
    {
      "cell_type": "markdown",
      "source": [
        "#3. C"
      ],
      "metadata": {
        "id": "Cgg5J5MFddPv"
      }
    },
    {
      "cell_type": "markdown",
      "source": [
        "Pilih metode yang sesuai untuk menangani outlier dan jelaskan alasan pemilihannya."
      ],
      "metadata": {
        "id": "P4-AmyvmdfBa"
      }
    },
    {
      "cell_type": "markdown",
      "source": [
        "Untuk menangani outlier pada kolom harga, metode yang sesuai adalah Winsorizing karena metode ini menggantikan nilai outlier dengan nilai yang ada pada persentil tertentu, sehingga dapat mempertahankan semua data tanpa harus menghapusnya. Selain itu, harga produk tidak berdistribusi normal dan terdapat nilai ekstrem yang jauh lebih tinggi dibandingkan dengan harga produk lainnya.Penggunaan Winsorizing dapat mengurangi pengaruh nilai ekstrem terhadap analisis tanpa menyebabkan kehilangan informasi penting. Selain itu, metode ini lebih stabil dibandingkan trimming (penghapusan outlier), terutama jika outlier masih memiliki makna dalam konteks bisnis atau analisis harga produk."
      ],
      "metadata": {
        "id": "8YQicWJidhXW"
      }
    },
    {
      "cell_type": "markdown",
      "source": [
        "#3. D"
      ],
      "metadata": {
        "id": "sIkkb3h7dj59"
      }
    },
    {
      "cell_type": "markdown",
      "source": [
        "**Tangani outlier dengan metode yang sesuai, atau jika memilih tidak menangani outlier berikan alasannya.**"
      ],
      "metadata": {
        "id": "UkrMfPRXdmUm"
      }
    },
    {
      "cell_type": "markdown",
      "source": [
        "A. Winsorizing (Mengganti Outlier dengan Batas IQR)"
      ],
      "metadata": {
        "id": "Hc5Z5rEMdtPN"
      }
    },
    {
      "cell_type": "code",
      "source": [
        "def winsorize_iqr(data, column):\n",
        "    Q1 = data[column].quantile(0.25)\n",
        "    Q3 = data[column].quantile(0.75)\n",
        "    IQR = Q3 - Q1\n",
        "    lower_bound = Q1 - 1.5 * IQR\n",
        "    upper_bound = Q3 + 1.5 * IQR\n",
        "    data[column] = np.where(data[column] < lower_bound, lower_bound, data[column])\n",
        "    data[column] = np.where(data[column] > upper_bound, upper_bound, data[column])\n",
        "\n",
        "# Terapkan Winsorizing\n",
        "for col in num_cols:\n",
        "    winsorize_iqr(data, col)"
      ],
      "metadata": {
        "id": "azFvQPiDd1Qh"
      },
      "execution_count": 31,
      "outputs": []
    },
    {
      "cell_type": "code",
      "source": [
        "#cek boxplot lagi\n",
        "\n",
        "num_cols = ['harga','rating','jumlah_ulasan' ]\n",
        "\n",
        "# Visualisasi Boxplot\n",
        "plt.figure(figsize=(15, 8))\n",
        "for i, col in enumerate(num_cols, 1):\n",
        "    plt.subplot(3, 4, i)\n",
        "    sns.boxplot(y=data[col])\n",
        "    plt.title(col)\n",
        "plt.tight_layout()\n",
        "plt.show()"
      ],
      "metadata": {
        "colab": {
          "base_uri": "https://localhost:8080/",
          "height": 300
        },
        "id": "NKhJoPYkd3zO",
        "outputId": "b93fec12-a00c-472f-86d3-19e1809456ce"
      },
      "execution_count": 32,
      "outputs": [
        {
          "output_type": "display_data",
          "data": {
            "text/plain": [
              "<Figure size 1500x800 with 3 Axes>"
            ],
            "image/png": "[encoded data removed]"
          },
          "metadata": {}
        }
      ]
    },
    {
      "cell_type": "markdown",
      "source": [
        "Setelah outlier ditangani dengan metode Winsorizing, cek kembali menggunakan Boxplot sehingga tidak ada lagi titik di atas whisker yang menandakan sudah tidak adanya outlier."
      ],
      "metadata": {
        "id": "NoQnQDaad7bh"
      }
    },
    {
      "cell_type": "markdown",
      "source": [
        "#4. A."
      ],
      "metadata": {
        "id": "TegHWoJoi6CR"
      }
    },
    {
      "cell_type": "markdown",
      "source": [
        "**Kategori**"
      ],
      "metadata": {
        "id": "iOpzUedVi8QX"
      }
    },
    {
      "cell_type": "code",
      "source": [
        "#melihat isi dalam kolom\n",
        "data['kategori'].unique()"
      ],
      "metadata": {
        "colab": {
          "base_uri": "https://localhost:8080/"
        },
        "id": "qW_caD5ojBB4",
        "outputId": "624a308f-ce32-434d-dc27-f33c7ddda723"
      },
      "execution_count": 33,
      "outputs": [
        {
          "output_type": "execute_result",
          "data": {
            "text/plain": [
              "array(['Smartwatch', 'Headphone', 'Tablet', 'Laptop', 'Camera',\n",
              "       'Smartphone'], dtype=object)"
            ]
          },
          "metadata": {},
          "execution_count": 33
        }
      ]
    },
    {
      "cell_type": "code",
      "source": [
        "from sklearn.preprocessing import OneHotEncoder\n",
        "One_encoder = OneHotEncoder()"
      ],
      "metadata": {
        "id": "m_UHvpvPjjvc"
      },
      "execution_count": 35,
      "outputs": []
    },
    {
      "cell_type": "code",
      "source": [
        "One_encoder = OneHotEncoder(handle_unknown='ignore', sparse_output=False).set_output(transform='pandas')"
      ],
      "metadata": {
        "id": "TpKlR3u4j32r"
      },
      "execution_count": 37,
      "outputs": []
    },
    {
      "cell_type": "code",
      "source": [
        "encoded_kategori = One_encoder.fit_transform(data[['kategori']])"
      ],
      "metadata": {
        "id": "iePakFFzkSXt"
      },
      "execution_count": 38,
      "outputs": []
    },
    {
      "cell_type": "code",
      "source": [
        "encoded_kategori"
      ],
      "metadata": {
        "colab": {
          "base_uri": "https://localhost:8080/",
          "height": 424
        },
        "id": "q-TrLNN2kdxP",
        "outputId": "7c1475c8-4538-4d19-fb00-69b3be6bb1de"
      },
      "execution_count": 39,
      "outputs": [
        {
          "output_type": "execute_result",
          "data": {
            "text/plain": [
              "     kategori_Camera  kategori_Headphone  kategori_Laptop  \\\n",
              "0                0.0                 0.0              0.0   \n",
              "1                0.0                 1.0              0.0   \n",
              "2                0.0                 0.0              0.0   \n",
              "3                0.0                 1.0              0.0   \n",
              "4                0.0                 1.0              0.0   \n",
              "..               ...                 ...              ...   \n",
              "545              0.0                 0.0              1.0   \n",
              "546              0.0                 1.0              0.0   \n",
              "547              0.0                 0.0              0.0   \n",
              "548              0.0                 0.0              1.0   \n",
              "549              0.0                 0.0              0.0   \n",
              "\n",
              "     kategori_Smartphone  kategori_Smartwatch  kategori_Tablet  \n",
              "0                    0.0                  1.0              0.0  \n",
              "1                    0.0                  0.0              0.0  \n",
              "2                    0.0                  0.0              1.0  \n",
              "3                    0.0                  0.0              0.0  \n",
              "4                    0.0                  0.0              0.0  \n",
              "..                   ...                  ...              ...  \n",
              "545                  0.0                  0.0              0.0  \n",
              "546                  0.0                  0.0              0.0  \n",
              "547                  0.0                  0.0              1.0  \n",
              "548                  0.0                  0.0              0.0  \n",
              "549                  0.0                  0.0              1.0  \n",
              "\n",
              "[550 rows x 6 columns]"
            ],
            "text/html": [
              "\n",
              "  <div id=\"df-1931acf6-06bb-4f2c-b7e5-bc80cd806a44\" class=\"colab-df-container\">\n",
              "    <div>\n",
              "<style scoped>\n",
              "    .dataframe tbody tr th:only-of-type {\n",
              "        vertical-align: middle;\n",
              "    }\n",
              "\n",
              "    .dataframe tbody tr th {\n",
              "        vertical-align: top;\n",
              "    }\n",
              "\n",
              "    .dataframe thead th {\n",
              "        text-align: right;\n",
              "    }\n",
              "</style>\n",
              "<table border=\"1\" class=\"dataframe\">\n",
              "  <thead>\n",
              "    <tr style=\"text-align: right;\">\n",
              "      <th></th>\n",
              "      <th>kategori_Camera</th>\n",
              "      <th>kategori_Headphone</th>\n",
              "      <th>kategori_Laptop</th>\n",
              "      <th>kategori_Smartphone</th>\n",
              "      <th>kategori_Smartwatch</th>\n",
              "      <th>kategori_Tablet</th>\n",
              "    </tr>\n",
              "  </thead>\n",
              "  <tbody>\n",
              "    <tr>\n",
              "      <th>0</th>\n",
              "      <td>0.0</td>\n",
              "      <td>0.0</td>\n",
              "      <td>0.0</td>\n",
              "      <td>0.0</td>\n",
              "      <td>1.0</td>\n",
              "      <td>0.0</td>\n",
              "    </tr>\n",
              "    <tr>\n",
              "      <th>1</th>\n",
              "      <td>0.0</td>\n",
              "      <td>1.0</td>\n",
              "      <td>0.0</td>\n",
              "      <td>0.0</td>\n",
              "      <td>0.0</td>\n",
              "      <td>0.0</td>\n",
              "    </tr>\n",
              "    <tr>\n",
              "      <th>2</th>\n",
              "      <td>0.0</td>\n",
              "      <td>0.0</td>\n",
              "      <td>0.0</td>\n",
              "      <td>0.0</td>\n",
              "      <td>0.0</td>\n",
              "      <td>1.0</td>\n",
              "    </tr>\n",
              "    <tr>\n",
              "      <th>3</th>\n",
              "      <td>0.0</td>\n",
              "      <td>1.0</td>\n",
              "      <td>0.0</td>\n",
              "      <td>0.0</td>\n",
              "      <td>0.0</td>\n",
              "      <td>0.0</td>\n",
              "    </tr>\n",
              "    <tr>\n",
              "      <th>4</th>\n",
              "      <td>0.0</td>\n",
              "      <td>1.0</td>\n",
              "      <td>0.0</td>\n",
              "      <td>0.0</td>\n",
              "      <td>0.0</td>\n",
              "      <td>0.0</td>\n",
              "    </tr>\n",
              "    <tr>\n",
              "      <th>...</th>\n",
              "      <td>...</td>\n",
              "      <td>...</td>\n",
              "      <td>...</td>\n",
              "      <td>...</td>\n",
              "      <td>...</td>\n",
              "      <td>...</td>\n",
              "    </tr>\n",
              "    <tr>\n",
              "      <th>545</th>\n",
              "      <td>0.0</td>\n",
              "      <td>0.0</td>\n",
              "      <td>1.0</td>\n",
              "      <td>0.0</td>\n",
              "      <td>0.0</td>\n",
              "      <td>0.0</td>\n",
              "    </tr>\n",
              "    <tr>\n",
              "      <th>546</th>\n",
              "      <td>0.0</td>\n",
              "      <td>1.0</td>\n",
              "      <td>0.0</td>\n",
              "      <td>0.0</td>\n",
              "      <td>0.0</td>\n",
              "      <td>0.0</td>\n",
              "    </tr>\n",
              "    <tr>\n",
              "      <th>547</th>\n",
              "      <td>0.0</td>\n",
              "      <td>0.0</td>\n",
              "      <td>0.0</td>\n",
              "      <td>0.0</td>\n",
              "      <td>0.0</td>\n",
              "      <td>1.0</td>\n",
              "    </tr>\n",
              "    <tr>\n",
              "      <th>548</th>\n",
              "      <td>0.0</td>\n",
              "      <td>0.0</td>\n",
              "      <td>1.0</td>\n",
              "      <td>0.0</td>\n",
              "      <td>0.0</td>\n",
              "      <td>0.0</td>\n",
              "    </tr>\n",
              "    <tr>\n",
              "      <th>549</th>\n",
              "      <td>0.0</td>\n",
              "      <td>0.0</td>\n",
              "      <td>0.0</td>\n",
              "      <td>0.0</td>\n",
              "      <td>0.0</td>\n",
              "      <td>1.0</td>\n",
              "    </tr>\n",
              "  </tbody>\n",
              "</table>\n",
              "<p>550 rows × 6 columns</p>\n",
              "</div>\n",
              "    <div class=\"colab-df-buttons\">\n",
              "\n",
              "  <div class=\"colab-df-container\">\n",
              "    <button class=\"colab-df-convert\" onclick=\"convertToInteractive('df-1931acf6-06bb-4f2c-b7e5-bc80cd806a44')\"\n",
              "            title=\"Convert this dataframe to an interactive table.\"\n",
              "            style=\"display:none;\">\n",
              "\n",
              "  <svg xmlns=\"http://www.w3.org/2000/svg\" height=\"24px\" viewBox=\"0 -960 960 960\">\n",
              "    <path d=\"M120-120v-720h720v720H120Zm60-500h600v-160H180v160Zm220 220h160v-160H400v160Zm0 220h160v-160H400v160ZM180-400h160v-160H180v160Zm440 0h160v-160H620v160ZM180-180h160v-160H180v160Zm440 0h160v-160H620v160Z\"/>\n",
              "  </svg>\n",
              "    </button>\n",
              "\n",
              "  <style>\n",
              "    .colab-df-container {\n",
              "      display:flex;\n",
              "      gap: 12px;\n",
              "    }\n",
              "\n",
              "    .colab-df-convert {\n",
              "      background-color: #E8F0FE;\n",
              "      border: none;\n",
              "      border-radius: 50%;\n",
              "      cursor: pointer;\n",
              "      display: none;\n",
              "      fill: #1967D2;\n",
              "      height: 32px;\n",
              "      padding: 0 0 0 0;\n",
              "      width: 32px;\n",
              "    }\n",
              "\n",
              "    .colab-df-convert:hover {\n",
              "      background-color: #E2EBFA;\n",
              "      box-shadow: 0px 1px 2px rgba(60, 64, 67, 0.3), 0px 1px 3px 1px rgba(60, 64, 67, 0.15);\n",
              "      fill: #174EA6;\n",
              "    }\n",
              "\n",
              "    .colab-df-buttons div {\n",
              "      margin-bottom: 4px;\n",
              "    }\n",
              "\n",
              "    [theme=dark] .colab-df-convert {\n",
              "      background-color: #3B4455;\n",
              "      fill: #D2E3FC;\n",
              "    }\n",
              "\n",
              "    [theme=dark] .colab-df-convert:hover {\n",
              "      background-color: #434B5C;\n",
              "      box-shadow: 0px 1px 3px 1px rgba(0, 0, 0, 0.15);\n",
              "      filter: drop-shadow(0px 1px 2px rgba(0, 0, 0, 0.3));\n",
              "      fill: #FFFFFF;\n",
              "    }\n",
              "  </style>\n",
              "\n",
              "    <script>\n",
              "      const buttonEl =\n",
              "        document.querySelector('#df-1931acf6-06bb-4f2c-b7e5-bc80cd806a44 button.colab-df-convert');\n",
              "      buttonEl.style.display =\n",
              "        google.colab.kernel.accessAllowed ? 'block' : 'none';\n",
              "\n",
              "      async function convertToInteractive(key) {\n",
              "        const element = document.querySelector('#df-1931acf6-06bb-4f2c-b7e5-bc80cd806a44');\n",
              "        const dataTable =\n",
              "          await google.colab.kernel.invokeFunction('convertToInteractive',\n",
              "                                                    [key], {});\n",
              "        if (!dataTable) return;\n",
              "\n",
              "        const docLinkHtml = 'Like what you see? Visit the ' +\n",
              "          '<a target=\"_blank\" href=https://colab.research.google.com/notebooks/data_table.ipynb>data table notebook</a>'\n",
              "          + ' to learn more about interactive tables.';\n",
              "        element.innerHTML = '';\n",
              "        dataTable['output_type'] = 'display_data';\n",
              "        await google.colab.output.renderOutput(dataTable, element);\n",
              "        const docLink = document.createElement('div');\n",
              "        docLink.innerHTML = docLinkHtml;\n",
              "        element.appendChild(docLink);\n",
              "      }\n",
              "    </script>\n",
              "  </div>\n",
              "\n",
              "\n",
              "<div id=\"df-3aad7c9c-a6ae-4fa5-8010-c820af72223b\">\n",
              "  <button class=\"colab-df-quickchart\" onclick=\"quickchart('df-3aad7c9c-a6ae-4fa5-8010-c820af72223b')\"\n",
              "            title=\"Suggest charts\"\n",
              "            style=\"display:none;\">\n",
              "\n",
              "<svg xmlns=\"http://www.w3.org/2000/svg\" height=\"24px\"viewBox=\"0 0 24 24\"\n",
              "     width=\"24px\">\n",
              "    <g>\n",
              "        <path d=\"M19 3H5c-1.1 0-2 .9-2 2v14c0 1.1.9 2 2 2h14c1.1 0 2-.9 2-2V5c0-1.1-.9-2-2-2zM9 17H7v-7h2v7zm4 0h-2V7h2v10zm4 0h-2v-4h2v4z\"/>\n",
              "    </g>\n",
              "</svg>\n",
              "  </button>\n",
              "\n",
              "<style>\n",
              "  .colab-df-quickchart {\n",
              "      --bg-color: #E8F0FE;\n",
              "      --fill-color: #1967D2;\n",
              "      --hover-bg-color: #E2EBFA;\n",
              "      --hover-fill-color: #174EA6;\n",
              "      --disabled-fill-color: #AAA;\n",
              "      --disabled-bg-color: #DDD;\n",
              "  }\n",
              "\n",
              "  [theme=dark] .colab-df-quickchart {\n",
              "      --bg-color: #3B4455;\n",
              "      --fill-color: #D2E3FC;\n",
              "      --hover-bg-color: #434B5C;\n",
              "      --hover-fill-color: #FFFFFF;\n",
              "      --disabled-bg-color: #3B4455;\n",
              "      --disabled-fill-color: #666;\n",
              "  }\n",
              "\n",
              "  .colab-df-quickchart {\n",
              "    background-color: var(--bg-color);\n",
              "    border: none;\n",
              "    border-radius: 50%;\n",
              "    cursor: pointer;\n",
              "    display: none;\n",
              "    fill: var(--fill-color);\n",
              "    height: 32px;\n",
              "    padding: 0;\n",
              "    width: 32px;\n",
              "  }\n",
              "\n",
              "  .colab-df-quickchart:hover {\n",
              "    background-color: var(--hover-bg-color);\n",
              "    box-shadow: 0 1px 2px rgba(60, 64, 67, 0.3), 0 1px 3px 1px rgba(60, 64, 67, 0.15);\n",
              "    fill: var(--button-hover-fill-color);\n",
              "  }\n",
              "\n",
              "  .colab-df-quickchart-complete:disabled,\n",
              "  .colab-df-quickchart-complete:disabled:hover {\n",
              "    background-color: var(--disabled-bg-color);\n",
              "    fill: var(--disabled-fill-color);\n",
              "    box-shadow: none;\n",
              "  }\n",
              "\n",
              "  .colab-df-spinner {\n",
              "    border: 2px solid var(--fill-color);\n",
              "    border-color: transparent;\n",
              "    border-bottom-color: var(--fill-color);\n",
              "    animation:\n",
              "      spin 1s steps(1) infinite;\n",
              "  }\n",
              "\n",
              "  @keyframes spin {\n",
              "    0% {\n",
              "      border-color: transparent;\n",
              "      border-bottom-color: var(--fill-color);\n",
              "      border-left-color: var(--fill-color);\n",
              "    }\n",
              "    20% {\n",
              "      border-color: transparent;\n",
              "      border-left-color: var(--fill-color);\n",
              "      border-top-color: var(--fill-color);\n",
              "    }\n",
              "    30% {\n",
              "      border-color: transparent;\n",
              "      border-left-color: var(--fill-color);\n",
              "      border-top-color: var(--fill-color);\n",
              "      border-right-color: var(--fill-color);\n",
              "    }\n",
              "    40% {\n",
              "      border-color: transparent;\n",
              "      border-right-color: var(--fill-color);\n",
              "      border-top-color: var(--fill-color);\n",
              "    }\n",
              "    60% {\n",
              "      border-color: transparent;\n",
              "      border-right-color: var(--fill-color);\n",
              "    }\n",
              "    80% {\n",
              "      border-color: transparent;\n",
              "      border-right-color: var(--fill-color);\n",
              "      border-bottom-color: var(--fill-color);\n",
              "    }\n",
              "    90% {\n",
              "      border-color: transparent;\n",
              "      border-bottom-color: var(--fill-color);\n",
              "    }\n",
              "  }\n",
              "</style>\n",
              "\n",
              "  <script>\n",
              "    async function quickchart(key) {\n",
              "      const quickchartButtonEl =\n",
              "        document.querySelector('#' + key + ' button');\n",
              "      quickchartButtonEl.disabled = true;  // To prevent multiple clicks.\n",
              "      quickchartButtonEl.classList.add('colab-df-spinner');\n",
              "      try {\n",
              "        const charts = await google.colab.kernel.invokeFunction(\n",
              "            'suggestCharts', [key], {});\n",
              "      } catch (error) {\n",
              "        console.error('Error during call to suggestCharts:', error);\n",
              "      }\n",
              "      quickchartButtonEl.classList.remove('colab-df-spinner');\n",
              "      quickchartButtonEl.classList.add('colab-df-quickchart-complete');\n",
              "    }\n",
              "    (() => {\n",
              "      let quickchartButtonEl =\n",
              "        document.querySelector('#df-3aad7c9c-a6ae-4fa5-8010-c820af72223b button');\n",
              "      quickchartButtonEl.style.display =\n",
              "        google.colab.kernel.accessAllowed ? 'block' : 'none';\n",
              "    })();\n",
              "  </script>\n",
              "</div>\n",
              "\n",
              "  <div id=\"id_fd778073-4ff7-40e9-809c-c6c1ddef889b\">\n",
              "    <style>\n",
              "      .colab-df-generate {\n",
              "        background-color: #E8F0FE;\n",
              "        border: none;\n",
              "        border-radius: 50%;\n",
              "        cursor: pointer;\n",
              "        display: none;\n",
              "        fill: #1967D2;\n",
              "        height: 32px;\n",
              "        padding: 0 0 0 0;\n",
              "        width: 32px;\n",
              "      }\n",
              "\n",
              "      .colab-df-generate:hover {\n",
              "        background-color: #E2EBFA;\n",
              "        box-shadow: 0px 1px 2px rgba(60, 64, 67, 0.3), 0px 1px 3px 1px rgba(60, 64, 67, 0.15);\n",
              "        fill: #174EA6;\n",
              "      }\n",
              "\n",
              "      [theme=dark] .colab-df-generate {\n",
              "        background-color: #3B4455;\n",
              "        fill: #D2E3FC;\n",
              "      }\n",
              "\n",
              "      [theme=dark] .colab-df-generate:hover {\n",
              "        background-color: #434B5C;\n",
              "        box-shadow: 0px 1px 3px 1px rgba(0, 0, 0, 0.15);\n",
              "        filter: drop-shadow(0px 1px 2px rgba(0, 0, 0, 0.3));\n",
              "        fill: #FFFFFF;\n",
              "      }\n",
              "    </style>\n",
              "    <button class=\"colab-df-generate\" onclick=\"generateWithVariable('encoded_kategori')\"\n",
              "            title=\"Generate code using this dataframe.\"\n",
              "            style=\"display:none;\">\n",
              "\n",
              "  <svg xmlns=\"http://www.w3.org/2000/svg\" height=\"24px\"viewBox=\"0 0 24 24\"\n",
              "       width=\"24px\">\n",
              "    <path d=\"M7,19H8.4L18.45,9,17,7.55,7,17.6ZM5,21V16.75L18.45,3.32a2,2,0,0,1,2.83,0l1.4,1.43a1.91,1.91,0,0,1,.58,1.4,1.91,1.91,0,0,1-.58,1.4L9.25,21ZM18.45,9,17,7.55Zm-12,3A5.31,5.31,0,0,0,4.9,8.1,5.31,5.31,0,0,0,1,6.5,5.31,5.31,0,0,0,4.9,4.9,5.31,5.31,0,0,0,6.5,1,5.31,5.31,0,0,0,8.1,4.9,5.31,5.31,0,0,0,12,6.5,5.46,5.46,0,0,0,6.5,12Z\"/>\n",
              "  </svg>\n",
              "    </button>\n",
              "    <script>\n",
              "      (() => {\n",
              "      const buttonEl =\n",
              "        document.querySelector('#id_fd778073-4ff7-40e9-809c-c6c1ddef889b button.colab-df-generate');\n",
              "      buttonEl.style.display =\n",
              "        google.colab.kernel.accessAllowed ? 'block' : 'none';\n",
              "\n",
              "      buttonEl.onclick = () => {\n",
              "        google.colab.notebook.generateWithVariable('encoded_kategori');\n",
              "      }\n",
              "      })();\n",
              "    </script>\n",
              "  </div>\n",
              "\n",
              "    </div>\n",
              "  </div>\n"
            ],
            "application/vnd.google.colaboratory.intrinsic+json": {
              "type": "dataframe",
              "variable_name": "encoded_kategori",
              "summary": "{\n  \"name\": \"encoded_kategori\",\n  \"rows\": 550,\n  \"fields\": [\n    {\n      \"column\": \"kategori_Camera\",\n      \"properties\": {\n        \"dtype\": \"number\",\n        \"std\": 0.37028204499610634,\n        \"min\": 0.0,\n        \"max\": 1.0,\n        \"num_unique_values\": 2,\n        \"samples\": [\n          1.0,\n          0.0\n        ],\n        \"semantic_type\": \"\",\n        \"description\": \"\"\n      }\n    },\n    {\n      \"column\": \"kategori_Headphone\",\n      \"properties\": {\n        \"dtype\": \"number\",\n        \"std\": 0.36005188123149656,\n        \"min\": 0.0,\n        \"max\": 1.0,\n        \"num_unique_values\": 2,\n        \"samples\": [\n          1.0,\n          0.0\n        ],\n        \"semantic_type\": \"\",\n        \"description\": \"\"\n      }\n    },\n    {\n      \"column\": \"kategori_Laptop\",\n      \"properties\": {\n        \"dtype\": \"number\",\n        \"std\": 0.36353037037793323,\n        \"min\": 0.0,\n        \"max\": 1.0,\n        \"num_unique_values\": 2,\n        \"samples\": [\n          1.0,\n          0.0\n        ],\n        \"semantic_type\": \"\",\n        \"description\": \"\"\n      }\n    },\n    {\n      \"column\": \"kategori_Smartphone\",\n      \"properties\": {\n        \"dtype\": \"number\",\n        \"std\": 0.3814762029182766,\n        \"min\": 0.0,\n        \"max\": 1.0,\n        \"num_unique_values\": 2,\n        \"samples\": [\n          1.0,\n          0.0\n        ],\n        \"semantic_type\": \"\",\n        \"description\": \"\"\n      }\n    },\n    {\n      \"column\": \"kategori_Smartwatch\",\n      \"properties\": {\n        \"dtype\": \"number\",\n        \"std\": 0.39621073205563095,\n        \"min\": 0.0,\n        \"max\": 1.0,\n        \"num_unique_values\": 2,\n        \"samples\": [\n          0.0,\n          1.0\n        ],\n        \"semantic_type\": \"\",\n        \"description\": \"\"\n      }\n    },\n    {\n      \"column\": \"kategori_Tablet\",\n      \"properties\": {\n        \"dtype\": \"number\",\n        \"std\": 0.36353037037793273,\n        \"min\": 0.0,\n        \"max\": 1.0,\n        \"num_unique_values\": 2,\n        \"samples\": [\n          1.0,\n          0.0\n        ],\n        \"semantic_type\": \"\",\n        \"description\": \"\"\n      }\n    }\n  ]\n}"
            }
          },
          "metadata": {},
          "execution_count": 39
        }
      ]
    },
    {
      "cell_type": "markdown",
      "source": [
        "**Negara Asal**"
      ],
      "metadata": {
        "id": "6pX4puHlmKnf"
      }
    },
    {
      "cell_type": "code",
      "source": [
        "#melihat isi dalam kolom\n",
        "data['negara_asal'].unique()"
      ],
      "metadata": {
        "colab": {
          "base_uri": "https://localhost:8080/"
        },
        "id": "qRFQaWVvmBLu",
        "outputId": "a0413271-0b70-41d1-e9cc-0747aba17f94"
      },
      "execution_count": 40,
      "outputs": [
        {
          "output_type": "execute_result",
          "data": {
            "text/plain": [
              "array(['Japan', 'Canada', 'South Korea', 'France', 'USA', 'Germany',\n",
              "       'China', 'India', 'UK'], dtype=object)"
            ]
          },
          "metadata": {},
          "execution_count": 40
        }
      ]
    },
    {
      "cell_type": "code",
      "source": [
        "from sklearn.preprocessing import OneHotEncoder\n",
        "One_encoder = OneHotEncoder()"
      ],
      "metadata": {
        "id": "b7xq_WkdmQmv"
      },
      "execution_count": 41,
      "outputs": []
    },
    {
      "cell_type": "code",
      "source": [
        "One_encoder = OneHotEncoder(handle_unknown='ignore', sparse_output=False).set_output(transform='pandas')"
      ],
      "metadata": {
        "id": "yF2mYxQ1mYHH"
      },
      "execution_count": 42,
      "outputs": []
    },
    {
      "cell_type": "code",
      "source": [
        "encoded_negara = One_encoder.fit_transform(data[['negara_asal']])"
      ],
      "metadata": {
        "id": "B8T4wJsFmaO5"
      },
      "execution_count": 43,
      "outputs": []
    },
    {
      "cell_type": "code",
      "source": [
        "encoded_negara"
      ],
      "metadata": {
        "colab": {
          "base_uri": "https://localhost:8080/",
          "height": 461
        },
        "id": "p3jVf8lTmjL0",
        "outputId": "d0432cba-a3c9-4c1a-d1ec-685850ba6f8d"
      },
      "execution_count": 44,
      "outputs": [
        {
          "output_type": "execute_result",
          "data": {
            "text/plain": [
              "     negara_asal_Canada  negara_asal_China  negara_asal_France  \\\n",
              "0                   0.0                0.0                 0.0   \n",
              "1                   1.0                0.0                 0.0   \n",
              "2                   1.0                0.0                 0.0   \n",
              "3                   0.0                0.0                 0.0   \n",
              "4                   0.0                0.0                 0.0   \n",
              "..                  ...                ...                 ...   \n",
              "545                 0.0                1.0                 0.0   \n",
              "546                 0.0                0.0                 0.0   \n",
              "547                 0.0                0.0                 0.0   \n",
              "548                 0.0                0.0                 0.0   \n",
              "549                 0.0                0.0                 0.0   \n",
              "\n",
              "     negara_asal_Germany  negara_asal_India  negara_asal_Japan  \\\n",
              "0                    0.0                0.0                1.0   \n",
              "1                    0.0                0.0                0.0   \n",
              "2                    0.0                0.0                0.0   \n",
              "3                    0.0                0.0                0.0   \n",
              "4                    0.0                0.0                0.0   \n",
              "..                   ...                ...                ...   \n",
              "545                  0.0                0.0                0.0   \n",
              "546                  0.0                0.0                0.0   \n",
              "547                  0.0                1.0                0.0   \n",
              "548                  1.0                0.0                0.0   \n",
              "549                  1.0                0.0                0.0   \n",
              "\n",
              "     negara_asal_South Korea  negara_asal_UK  negara_asal_USA  \n",
              "0                        0.0             0.0              0.0  \n",
              "1                        0.0             0.0              0.0  \n",
              "2                        0.0             0.0              0.0  \n",
              "3                        1.0             0.0              0.0  \n",
              "4                        1.0             0.0              0.0  \n",
              "..                       ...             ...              ...  \n",
              "545                      0.0             0.0              0.0  \n",
              "546                      0.0             0.0              1.0  \n",
              "547                      0.0             0.0              0.0  \n",
              "548                      0.0             0.0              0.0  \n",
              "549                      0.0             0.0              0.0  \n",
              "\n",
              "[550 rows x 9 columns]"
            ],
            "text/html": [
              "\n",
              "  <div id=\"df-5d6e90be-71b4-4e81-9ff8-6c4fe3b4bd7c\" class=\"colab-df-container\">\n",
              "    <div>\n",
              "<style scoped>\n",
              "    .dataframe tbody tr th:only-of-type {\n",
              "        vertical-align: middle;\n",
              "    }\n",
              "\n",
              "    .dataframe tbody tr th {\n",
              "        vertical-align: top;\n",
              "    }\n",
              "\n",
              "    .dataframe thead th {\n",
              "        text-align: right;\n",
              "    }\n",
              "</style>\n",
              "<table border=\"1\" class=\"dataframe\">\n",
              "  <thead>\n",
              "    <tr style=\"text-align: right;\">\n",
              "      <th></th>\n",
              "      <th>negara_asal_Canada</th>\n",
              "      <th>negara_asal_China</th>\n",
              "      <th>negara_asal_France</th>\n",
              "      <th>negara_asal_Germany</th>\n",
              "      <th>negara_asal_India</th>\n",
              "      <th>negara_asal_Japan</th>\n",
              "      <th>negara_asal_South Korea</th>\n",
              "      <th>negara_asal_UK</th>\n",
              "      <th>negara_asal_USA</th>\n",
              "    </tr>\n",
              "  </thead>\n",
              "  <tbody>\n",
              "    <tr>\n",
              "      <th>0</th>\n",
              "      <td>0.0</td>\n",
              "      <td>0.0</td>\n",
              "      <td>0.0</td>\n",
              "      <td>0.0</td>\n",
              "      <td>0.0</td>\n",
              "      <td>1.0</td>\n",
              "      <td>0.0</td>\n",
              "      <td>0.0</td>\n",
              "      <td>0.0</td>\n",
              "    </tr>\n",
              "    <tr>\n",
              "      <th>1</th>\n",
              "      <td>1.0</td>\n",
              "      <td>0.0</td>\n",
              "      <td>0.0</td>\n",
              "      <td>0.0</td>\n",
              "      <td>0.0</td>\n",
              "      <td>0.0</td>\n",
              "      <td>0.0</td>\n",
              "      <td>0.0</td>\n",
              "      <td>0.0</td>\n",
              "    </tr>\n",
              "    <tr>\n",
              "      <th>2</th>\n",
              "      <td>1.0</td>\n",
              "      <td>0.0</td>\n",
              "      <td>0.0</td>\n",
              "      <td>0.0</td>\n",
              "      <td>0.0</td>\n",
              "      <td>0.0</td>\n",
              "      <td>0.0</td>\n",
              "      <td>0.0</td>\n",
              "      <td>0.0</td>\n",
              "    </tr>\n",
              "    <tr>\n",
              "      <th>3</th>\n",
              "      <td>0.0</td>\n",
              "      <td>0.0</td>\n",
              "      <td>0.0</td>\n",
              "      <td>0.0</td>\n",
              "      <td>0.0</td>\n",
              "      <td>0.0</td>\n",
              "      <td>1.0</td>\n",
              "      <td>0.0</td>\n",
              "      <td>0.0</td>\n",
              "    </tr>\n",
              "    <tr>\n",
              "      <th>4</th>\n",
              "      <td>0.0</td>\n",
              "      <td>0.0</td>\n",
              "      <td>0.0</td>\n",
              "      <td>0.0</td>\n",
              "      <td>0.0</td>\n",
              "      <td>0.0</td>\n",
              "      <td>1.0</td>\n",
              "      <td>0.0</td>\n",
              "      <td>0.0</td>\n",
              "    </tr>\n",
              "    <tr>\n",
              "      <th>...</th>\n",
              "      <td>...</td>\n",
              "      <td>...</td>\n",
              "      <td>...</td>\n",
              "      <td>...</td>\n",
              "      <td>...</td>\n",
              "      <td>...</td>\n",
              "      <td>...</td>\n",
              "      <td>...</td>\n",
              "      <td>...</td>\n",
              "    </tr>\n",
              "    <tr>\n",
              "      <th>545</th>\n",
              "      <td>0.0</td>\n",
              "      <td>1.0</td>\n",
              "      <td>0.0</td>\n",
              "      <td>0.0</td>\n",
              "      <td>0.0</td>\n",
              "      <td>0.0</td>\n",
              "      <td>0.0</td>\n",
              "      <td>0.0</td>\n",
              "      <td>0.0</td>\n",
              "    </tr>\n",
              "    <tr>\n",
              "      <th>546</th>\n",
              "      <td>0.0</td>\n",
              "      <td>0.0</td>\n",
              "      <td>0.0</td>\n",
              "      <td>0.0</td>\n",
              "      <td>0.0</td>\n",
              "      <td>0.0</td>\n",
              "      <td>0.0</td>\n",
              "      <td>0.0</td>\n",
              "      <td>1.0</td>\n",
              "    </tr>\n",
              "    <tr>\n",
              "      <th>547</th>\n",
              "      <td>0.0</td>\n",
              "      <td>0.0</td>\n",
              "      <td>0.0</td>\n",
              "      <td>0.0</td>\n",
              "      <td>1.0</td>\n",
              "      <td>0.0</td>\n",
              "      <td>0.0</td>\n",
              "      <td>0.0</td>\n",
              "      <td>0.0</td>\n",
              "    </tr>\n",
              "    <tr>\n",
              "      <th>548</th>\n",
              "      <td>0.0</td>\n",
              "      <td>0.0</td>\n",
              "      <td>0.0</td>\n",
              "      <td>1.0</td>\n",
              "      <td>0.0</td>\n",
              "      <td>0.0</td>\n",
              "      <td>0.0</td>\n",
              "      <td>0.0</td>\n",
              "      <td>0.0</td>\n",
              "    </tr>\n",
              "    <tr>\n",
              "      <th>549</th>\n",
              "      <td>0.0</td>\n",
              "      <td>0.0</td>\n",
              "      <td>0.0</td>\n",
              "      <td>1.0</td>\n",
              "      <td>0.0</td>\n",
              "      <td>0.0</td>\n",
              "      <td>0.0</td>\n",
              "      <td>0.0</td>\n",
              "      <td>0.0</td>\n",
              "    </tr>\n",
              "  </tbody>\n",
              "</table>\n",
              "<p>550 rows × 9 columns</p>\n",
              "</div>\n",
              "    <div class=\"colab-df-buttons\">\n",
              "\n",
              "  <div class=\"colab-df-container\">\n",
              "    <button class=\"colab-df-convert\" onclick=\"convertToInteractive('df-5d6e90be-71b4-4e81-9ff8-6c4fe3b4bd7c')\"\n",
              "            title=\"Convert this dataframe to an interactive table.\"\n",
              "            style=\"display:none;\">\n",
              "\n",
              "  <svg xmlns=\"http://www.w3.org/2000/svg\" height=\"24px\" viewBox=\"0 -960 960 960\">\n",
              "    <path d=\"M120-120v-720h720v720H120Zm60-500h600v-160H180v160Zm220 220h160v-160H400v160Zm0 220h160v-160H400v160ZM180-400h160v-160H180v160Zm440 0h160v-160H620v160ZM180-180h160v-160H180v160Zm440 0h160v-160H620v160Z\"/>\n",
              "  </svg>\n",
              "    </button>\n",
              "\n",
              "  <style>\n",
              "    .colab-df-container {\n",
              "      display:flex;\n",
              "      gap: 12px;\n",
              "    }\n",
              "\n",
              "    .colab-df-convert {\n",
              "      background-color: #E8F0FE;\n",
              "      border: none;\n",
              "      border-radius: 50%;\n",
              "      cursor: pointer;\n",
              "      display: none;\n",
              "      fill: #1967D2;\n",
              "      height: 32px;\n",
              "      padding: 0 0 0 0;\n",
              "      width: 32px;\n",
              "    }\n",
              "\n",
              "    .colab-df-convert:hover {\n",
              "      background-color: #E2EBFA;\n",
              "      box-shadow: 0px 1px 2px rgba(60, 64, 67, 0.3), 0px 1px 3px 1px rgba(60, 64, 67, 0.15);\n",
              "      fill: #174EA6;\n",
              "    }\n",
              "\n",
              "    .colab-df-buttons div {\n",
              "      margin-bottom: 4px;\n",
              "    }\n",
              "\n",
              "    [theme=dark] .colab-df-convert {\n",
              "      background-color: #3B4455;\n",
              "      fill: #D2E3FC;\n",
              "    }\n",
              "\n",
              "    [theme=dark] .colab-df-convert:hover {\n",
              "      background-color: #434B5C;\n",
              "      box-shadow: 0px 1px 3px 1px rgba(0, 0, 0, 0.15);\n",
              "      filter: drop-shadow(0px 1px 2px rgba(0, 0, 0, 0.3));\n",
              "      fill: #FFFFFF;\n",
              "    }\n",
              "  </style>\n",
              "\n",
              "    <script>\n",
              "      const buttonEl =\n",
              "        document.querySelector('#df-5d6e90be-71b4-4e81-9ff8-6c4fe3b4bd7c button.colab-df-convert');\n",
              "      buttonEl.style.display =\n",
              "        google.colab.kernel.accessAllowed ? 'block' : 'none';\n",
              "\n",
              "      async function convertToInteractive(key) {\n",
              "        const element = document.querySelector('#df-5d6e90be-71b4-4e81-9ff8-6c4fe3b4bd7c');\n",
              "        const dataTable =\n",
              "          await google.colab.kernel.invokeFunction('convertToInteractive',\n",
              "                                                    [key], {});\n",
              "        if (!dataTable) return;\n",
              "\n",
              "        const docLinkHtml = 'Like what you see? Visit the ' +\n",
              "          '<a target=\"_blank\" href=https://colab.research.google.com/notebooks/data_table.ipynb>data table notebook</a>'\n",
              "          + ' to learn more about interactive tables.';\n",
              "        element.innerHTML = '';\n",
              "        dataTable['output_type'] = 'display_data';\n",
              "        await google.colab.output.renderOutput(dataTable, element);\n",
              "        const docLink = document.createElement('div');\n",
              "        docLink.innerHTML = docLinkHtml;\n",
              "        element.appendChild(docLink);\n",
              "      }\n",
              "    </script>\n",
              "  </div>\n",
              "\n",
              "\n",
              "<div id=\"df-2bf8fda8-1d8a-4e2f-8647-aa381be9951d\">\n",
              "  <button class=\"colab-df-quickchart\" onclick=\"quickchart('df-2bf8fda8-1d8a-4e2f-8647-aa381be9951d')\"\n",
              "            title=\"Suggest charts\"\n",
              "            style=\"display:none;\">\n",
              "\n",
              "<svg xmlns=\"http://www.w3.org/2000/svg\" height=\"24px\"viewBox=\"0 0 24 24\"\n",
              "     width=\"24px\">\n",
              "    <g>\n",
              "        <path d=\"M19 3H5c-1.1 0-2 .9-2 2v14c0 1.1.9 2 2 2h14c1.1 0 2-.9 2-2V5c0-1.1-.9-2-2-2zM9 17H7v-7h2v7zm4 0h-2V7h2v10zm4 0h-2v-4h2v4z\"/>\n",
              "    </g>\n",
              "</svg>\n",
              "  </button>\n",
              "\n",
              "<style>\n",
              "  .colab-df-quickchart {\n",
              "      --bg-color: #E8F0FE;\n",
              "      --fill-color: #1967D2;\n",
              "      --hover-bg-color: #E2EBFA;\n",
              "      --hover-fill-color: #174EA6;\n",
              "      --disabled-fill-color: #AAA;\n",
              "      --disabled-bg-color: #DDD;\n",
              "  }\n",
              "\n",
              "  [theme=dark] .colab-df-quickchart {\n",
              "      --bg-color: #3B4455;\n",
              "      --fill-color: #D2E3FC;\n",
              "      --hover-bg-color: #434B5C;\n",
              "      --hover-fill-color: #FFFFFF;\n",
              "      --disabled-bg-color: #3B4455;\n",
              "      --disabled-fill-color: #666;\n",
              "  }\n",
              "\n",
              "  .colab-df-quickchart {\n",
              "    background-color: var(--bg-color);\n",
              "    border: none;\n",
              "    border-radius: 50%;\n",
              "    cursor: pointer;\n",
              "    display: none;\n",
              "    fill: var(--fill-color);\n",
              "    height: 32px;\n",
              "    padding: 0;\n",
              "    width: 32px;\n",
              "  }\n",
              "\n",
              "  .colab-df-quickchart:hover {\n",
              "    background-color: var(--hover-bg-color);\n",
              "    box-shadow: 0 1px 2px rgba(60, 64, 67, 0.3), 0 1px 3px 1px rgba(60, 64, 67, 0.15);\n",
              "    fill: var(--button-hover-fill-color);\n",
              "  }\n",
              "\n",
              "  .colab-df-quickchart-complete:disabled,\n",
              "  .colab-df-quickchart-complete:disabled:hover {\n",
              "    background-color: var(--disabled-bg-color);\n",
              "    fill: var(--disabled-fill-color);\n",
              "    box-shadow: none;\n",
              "  }\n",
              "\n",
              "  .colab-df-spinner {\n",
              "    border: 2px solid var(--fill-color);\n",
              "    border-color: transparent;\n",
              "    border-bottom-color: var(--fill-color);\n",
              "    animation:\n",
              "      spin 1s steps(1) infinite;\n",
              "  }\n",
              "\n",
              "  @keyframes spin {\n",
              "    0% {\n",
              "      border-color: transparent;\n",
              "      border-bottom-color: var(--fill-color);\n",
              "      border-left-color: var(--fill-color);\n",
              "    }\n",
              "    20% {\n",
              "      border-color: transparent;\n",
              "      border-left-color: var(--fill-color);\n",
              "      border-top-color: var(--fill-color);\n",
              "    }\n",
              "    30% {\n",
              "      border-color: transparent;\n",
              "      border-left-color: var(--fill-color);\n",
              "      border-top-color: var(--fill-color);\n",
              "      border-right-color: var(--fill-color);\n",
              "    }\n",
              "    40% {\n",
              "      border-color: transparent;\n",
              "      border-right-color: var(--fill-color);\n",
              "      border-top-color: var(--fill-color);\n",
              "    }\n",
              "    60% {\n",
              "      border-color: transparent;\n",
              "      border-right-color: var(--fill-color);\n",
              "    }\n",
              "    80% {\n",
              "      border-color: transparent;\n",
              "      border-right-color: var(--fill-color);\n",
              "      border-bottom-color: var(--fill-color);\n",
              "    }\n",
              "    90% {\n",
              "      border-color: transparent;\n",
              "      border-bottom-color: var(--fill-color);\n",
              "    }\n",
              "  }\n",
              "</style>\n",
              "\n",
              "  <script>\n",
              "    async function quickchart(key) {\n",
              "      const quickchartButtonEl =\n",
              "        document.querySelector('#' + key + ' button');\n",
              "      quickchartButtonEl.disabled = true;  // To prevent multiple clicks.\n",
              "      quickchartButtonEl.classList.add('colab-df-spinner');\n",
              "      try {\n",
              "        const charts = await google.colab.kernel.invokeFunction(\n",
              "            'suggestCharts', [key], {});\n",
              "      } catch (error) {\n",
              "        console.error('Error during call to suggestCharts:', error);\n",
              "      }\n",
              "      quickchartButtonEl.classList.remove('colab-df-spinner');\n",
              "      quickchartButtonEl.classList.add('colab-df-quickchart-complete');\n",
              "    }\n",
              "    (() => {\n",
              "      let quickchartButtonEl =\n",
              "        document.querySelector('#df-2bf8fda8-1d8a-4e2f-8647-aa381be9951d button');\n",
              "      quickchartButtonEl.style.display =\n",
              "        google.colab.kernel.accessAllowed ? 'block' : 'none';\n",
              "    })();\n",
              "  </script>\n",
              "</div>\n",
              "\n",
              "  <div id=\"id_79711ff0-a6ce-409c-babc-eb5ac9f12bc4\">\n",
              "    <style>\n",
              "      .colab-df-generate {\n",
              "        background-color: #E8F0FE;\n",
              "        border: none;\n",
              "        border-radius: 50%;\n",
              "        cursor: pointer;\n",
              "        display: none;\n",
              "        fill: #1967D2;\n",
              "        height: 32px;\n",
              "        padding: 0 0 0 0;\n",
              "        width: 32px;\n",
              "      }\n",
              "\n",
              "      .colab-df-generate:hover {\n",
              "        background-color: #E2EBFA;\n",
              "        box-shadow: 0px 1px 2px rgba(60, 64, 67, 0.3), 0px 1px 3px 1px rgba(60, 64, 67, 0.15);\n",
              "        fill: #174EA6;\n",
              "      }\n",
              "\n",
              "      [theme=dark] .colab-df-generate {\n",
              "        background-color: #3B4455;\n",
              "        fill: #D2E3FC;\n",
              "      }\n",
              "\n",
              "      [theme=dark] .colab-df-generate:hover {\n",
              "        background-color: #434B5C;\n",
              "        box-shadow: 0px 1px 3px 1px rgba(0, 0, 0, 0.15);\n",
              "        filter: drop-shadow(0px 1px 2px rgba(0, 0, 0, 0.3));\n",
              "        fill: #FFFFFF;\n",
              "      }\n",
              "    </style>\n",
              "    <button class=\"colab-df-generate\" onclick=\"generateWithVariable('encoded_negara')\"\n",
              "            title=\"Generate code using this dataframe.\"\n",
              "            style=\"display:none;\">\n",
              "\n",
              "  <svg xmlns=\"http://www.w3.org/2000/svg\" height=\"24px\"viewBox=\"0 0 24 24\"\n",
              "       width=\"24px\">\n",
              "    <path d=\"M7,19H8.4L18.45,9,17,7.55,7,17.6ZM5,21V16.75L18.45,3.32a2,2,0,0,1,2.83,0l1.4,1.43a1.91,1.91,0,0,1,.58,1.4,1.91,1.91,0,0,1-.58,1.4L9.25,21ZM18.45,9,17,7.55Zm-12,3A5.31,5.31,0,0,0,4.9,8.1,5.31,5.31,0,0,0,1,6.5,5.31,5.31,0,0,0,4.9,4.9,5.31,5.31,0,0,0,6.5,1,5.31,5.31,0,0,0,8.1,4.9,5.31,5.31,0,0,0,12,6.5,5.46,5.46,0,0,0,6.5,12Z\"/>\n",
              "  </svg>\n",
              "    </button>\n",
              "    <script>\n",
              "      (() => {\n",
              "      const buttonEl =\n",
              "        document.querySelector('#id_79711ff0-a6ce-409c-babc-eb5ac9f12bc4 button.colab-df-generate');\n",
              "      buttonEl.style.display =\n",
              "        google.colab.kernel.accessAllowed ? 'block' : 'none';\n",
              "\n",
              "      buttonEl.onclick = () => {\n",
              "        google.colab.notebook.generateWithVariable('encoded_negara');\n",
              "      }\n",
              "      })();\n",
              "    </script>\n",
              "  </div>\n",
              "\n",
              "    </div>\n",
              "  </div>\n"
            ],
            "application/vnd.google.colaboratory.intrinsic+json": {
              "type": "dataframe",
              "variable_name": "encoded_negara",
              "summary": "{\n  \"name\": \"encoded_negara\",\n  \"rows\": 550,\n  \"fields\": [\n    {\n      \"column\": \"negara_asal_Canada\",\n      \"properties\": {\n        \"dtype\": \"number\",\n        \"std\": 0.3273734458917116,\n        \"min\": 0.0,\n        \"max\": 1.0,\n        \"num_unique_values\": 2,\n        \"samples\": [\n          1.0,\n          0.0\n        ],\n        \"semantic_type\": \"\",\n        \"description\": \"\"\n      }\n    },\n    {\n      \"column\": \"negara_asal_China\",\n      \"properties\": {\n        \"dtype\": \"number\",\n        \"std\": 0.3294658902072673,\n        \"min\": 0.0,\n        \"max\": 1.0,\n        \"num_unique_values\": 2,\n        \"samples\": [\n          1.0,\n          0.0\n        ],\n        \"semantic_type\": \"\",\n        \"description\": \"\"\n      }\n    },\n    {\n      \"column\": \"negara_asal_France\",\n      \"properties\": {\n        \"dtype\": \"number\",\n        \"std\": 0.3165470268412255,\n        \"min\": 0.0,\n        \"max\": 1.0,\n        \"num_unique_values\": 2,\n        \"samples\": [\n          1.0,\n          0.0\n        ],\n        \"semantic_type\": \"\",\n        \"description\": \"\"\n      }\n    },\n    {\n      \"column\": \"negara_asal_Germany\",\n      \"properties\": {\n        \"dtype\": \"number\",\n        \"std\": 0.3143053909621627,\n        \"min\": 0.0,\n        \"max\": 1.0,\n        \"num_unique_values\": 2,\n        \"samples\": [\n          1.0,\n          0.0\n        ],\n        \"semantic_type\": \"\",\n        \"description\": \"\"\n      }\n    },\n    {\n      \"column\": \"negara_asal_India\",\n      \"properties\": {\n        \"dtype\": \"number\",\n        \"std\": 0.29535791406398976,\n        \"min\": 0.0,\n        \"max\": 1.0,\n        \"num_unique_values\": 2,\n        \"samples\": [\n          1.0,\n          0.0\n        ],\n        \"semantic_type\": \"\",\n        \"description\": \"\"\n      }\n    },\n    {\n      \"column\": \"negara_asal_Japan\",\n      \"properties\": {\n        \"dtype\": \"number\",\n        \"std\": 0.28513424906535456,\n        \"min\": 0.0,\n        \"max\": 1.0,\n        \"num_unique_values\": 2,\n        \"samples\": [\n          0.0,\n          1.0\n        ],\n        \"semantic_type\": \"\",\n        \"description\": \"\"\n      }\n    },\n    {\n      \"column\": \"negara_asal_South Korea\",\n      \"properties\": {\n        \"dtype\": \"number\",\n        \"std\": 0.32946589020726724,\n        \"min\": 0.0,\n        \"max\": 1.0,\n        \"num_unique_values\": 2,\n        \"samples\": [\n          1.0,\n          0.0\n        ],\n        \"semantic_type\": \"\",\n        \"description\": \"\"\n      }\n    },\n    {\n      \"column\": \"negara_asal_UK\",\n      \"properties\": {\n        \"dtype\": \"number\",\n        \"std\": 0.3187625103474071,\n        \"min\": 0.0,\n        \"max\": 1.0,\n        \"num_unique_values\": 2,\n        \"samples\": [\n          1.0,\n          0.0\n        ],\n        \"semantic_type\": \"\",\n        \"description\": \"\"\n      }\n    },\n    {\n      \"column\": \"negara_asal_USA\",\n      \"properties\": {\n        \"dtype\": \"number\",\n        \"std\": 0.3097413842547576,\n        \"min\": 0.0,\n        \"max\": 1.0,\n        \"num_unique_values\": 2,\n        \"samples\": [\n          1.0,\n          0.0\n        ],\n        \"semantic_type\": \"\",\n        \"description\": \"\"\n      }\n    }\n  ]\n}"
            }
          },
          "metadata": {},
          "execution_count": 44
        }
      ]
    },
    {
      "cell_type": "code",
      "source": [
        "data.info()"
      ],
      "metadata": {
        "colab": {
          "base_uri": "https://localhost:8080/"
        },
        "id": "xOEWoq_hmq6g",
        "outputId": "42a9f678-b746-4a1c-ec5e-6b4c5c4af26c"
      },
      "execution_count": 45,
      "outputs": [
        {
          "output_type": "stream",
          "name": "stdout",
          "text": [
            "<class 'pandas.core.frame.DataFrame'>\n",
            "RangeIndex: 550 entries, 0 to 549\n",
            "Data columns (total 7 columns):\n",
            " #   Column         Non-Null Count  Dtype  \n",
            "---  ------         --------------  -----  \n",
            " 0   produk_id      550 non-null    int64  \n",
            " 1   nama_produk    550 non-null    object \n",
            " 2   kategori       550 non-null    object \n",
            " 3   harga          550 non-null    float64\n",
            " 4   rating         550 non-null    float64\n",
            " 5   jumlah_ulasan  550 non-null    float64\n",
            " 6   negara_asal    550 non-null    object \n",
            "dtypes: float64(3), int64(1), object(3)\n",
            "memory usage: 30.2+ KB\n"
          ]
        }
      ]
    },
    {
      "cell_type": "markdown",
      "source": [
        "#4. B"
      ],
      "metadata": {
        "id": "d65td0JSm2Ra"
      }
    },
    {
      "cell_type": "markdown",
      "source": [
        "**Bandingkan berbagai metode encoding dan pilih metode yang paling sesuai untuk\n",
        "setiap kolom. Jelaskan alasan pemilihan metode tersebut.**"
      ],
      "metadata": {
        "id": "8jeVlJmfm4Rp"
      }
    },
    {
      "cell_type": "markdown",
      "source": [
        "Metode encoding yang dapat digunakan untuk kolom kategori produk dan negara asal antara lain One Hot Encoding, Target Encoding, dan Label Encoding.\n",
        "\n",
        "Encoding untuk kolom kategori produk.\n",
        "Metode yang dapat digunakan antara lain:\n",
        "- One-Hot Encoding lebih cocok karena kategori produk bersifat nominal (tidak ada urutan tertentu).\n",
        "- Label Encoding dan Ordinal Encoding tidak cocok karena bisa membuat algoritma machine learning menganggap ada hubungan hierarkis antar kategori (misalnya \"Camera\" lebih besar dari \"Laptop\", padahal tidak ada hubungan seperti itu).\n",
        "\n",
        "Encoding untuk kolom negara asal.\n",
        "- Jika jumlah negara sedikit (misalnya hanya 9 negara), One-Hot Encoding lebih baik karena tidak memperkenalkan hubungan numerik yang salah.\n",
        "- Jika jumlah negara banyak, Target Encoding atau Frequency Encoding bisa lebih efisien untuk menghindari ledakan dimensi.\n",
        "- Label Encoding tidak direkomendasikan karena bisa menyebabkan algoritma menganggap ada hubungan numerik antar negara."
      ],
      "metadata": {
        "id": "dXFBDjkvm8cN"
      }
    }
  ]
}